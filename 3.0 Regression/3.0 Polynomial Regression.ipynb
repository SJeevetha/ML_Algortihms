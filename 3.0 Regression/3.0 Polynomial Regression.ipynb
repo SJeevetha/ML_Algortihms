{
 "cells": [
  {
   "cell_type": "code",
   "execution_count": 2,
   "id": "2123d58a",
   "metadata": {},
   "outputs": [],
   "source": [
    "import numpy as np\n",
    "import pandas as pd\n",
    "import matplotlib.pyplot as plt\n",
    "%matplotlib inline"
   ]
  },
  {
   "cell_type": "markdown",
   "id": "a0393ecb",
   "metadata": {},
   "source": [
    "np.random.rand(100, 1) generates 100 random numbers between 0 and 1, shaped as a column vector (100 rows × 1 column).\n",
    "\n",
    "Multiplying by 6 scales them to the range [0, 6).\n",
    "\n",
    "Subtracting 3 shifts the range to [-3, 3), so X contains 100 random values between -3 and +3."
   ]
  },
  {
   "cell_type": "code",
   "execution_count": 3,
   "id": "bd2905de",
   "metadata": {},
   "outputs": [
    {
     "data": {
      "text/plain": [
       "Text(0, 0.5, 'Y dataset')"
      ]
     },
     "execution_count": 3,
     "metadata": {},
     "output_type": "execute_result"
    },
    {
     "data": {
      "image/png": "[encoded data removed]",
      "text/plain": [
       "<Figure size 640x480 with 1 Axes>"
      ]
     },
     "metadata": {},
     "output_type": "display_data"
    }
   ],
   "source": [
    "X = 6 * np.random.rand(100,1)-3\n",
    "y = 0.5 * X**2 + 1.5*X +2 + np.random.randn(100,1)\n",
    "\n",
    "# quadratic equation used - y = 0.5x^2 + 1.5x + 2 + outliers\n",
    "plt.scatter(X,y,color='r')\n",
    "plt.xlabel('X dataset')\n",
    "plt.ylabel('Y dataset')"
   ]
  },
  {
   "cell_type": "markdown",
   "id": "a53fcbde",
   "metadata": {},
   "source": [
    "This code generates noisy data from a quadratic function and plots it as a scatter plot — useful for testing polynomial regression models."
   ]
  },
  {
   "cell_type": "code",
   "execution_count": 6,
   "id": "238648c7",
   "metadata": {},
   "outputs": [],
   "source": [
    "from sklearn.model_selection import train_test_split\n",
    "X_train,X_test,y_train,y_test = train_test_split(X,y,test_size=0.2,random_state=42)"
   ]
  },
  {
   "cell_type": "code",
   "execution_count": 7,
   "id": "03fa9f89",
   "metadata": {},
   "outputs": [],
   "source": [
    "## Lets implement\n",
    "from sklearn.linear_model import LinearRegression\n",
    "regression = LinearRegression()"
   ]
  },
  {
   "cell_type": "code",
   "execution_count": 11,
   "id": "3408ebec",
   "metadata": {},
   "outputs": [
    {
     "data": {
      "text/plain": [
       "array([[-1.30583862],\n",
       "       [-0.00352879],\n",
       "       [ 2.97431795],\n",
       "       [ 1.6575886 ],\n",
       "       [-2.09265222],\n",
       "       [-2.43035425],\n",
       "       [ 1.5211577 ],\n",
       "       [ 0.49555026],\n",
       "       [-2.64468886],\n",
       "       [-2.29358323],\n",
       "       [ 2.69323192],\n",
       "       [ 1.97776099],\n",
       "       [ 2.77887559],\n",
       "       [ 0.88253567],\n",
       "       [-0.66413213],\n",
       "       [ 2.98358734],\n",
       "       [-1.93245027],\n",
       "       [-0.64107286],\n",
       "       [-1.1133048 ],\n",
       "       [-1.96625801],\n",
       "       [-1.17236565],\n",
       "       [ 1.59932859],\n",
       "       [-1.88924245],\n",
       "       [-2.62724971],\n",
       "       [-2.55478877],\n",
       "       [ 0.21622803],\n",
       "       [ 1.16312166],\n",
       "       [-0.67834413],\n",
       "       [-1.41727791],\n",
       "       [-1.31879359],\n",
       "       [ 2.69926831],\n",
       "       [-0.32314242],\n",
       "       [ 2.61772416],\n",
       "       [ 1.96062313],\n",
       "       [-0.84019552],\n",
       "       [-2.39102515],\n",
       "       [-0.19156387],\n",
       "       [-0.83068837],\n",
       "       [-0.18722204],\n",
       "       [-2.41038551],\n",
       "       [ 1.59328224],\n",
       "       [-1.63194141],\n",
       "       [-2.80425175],\n",
       "       [-2.66438407],\n",
       "       [ 1.85698979],\n",
       "       [ 0.4233979 ],\n",
       "       [ 2.80502095],\n",
       "       [ 0.35170076],\n",
       "       [ 0.25904873],\n",
       "       [ 0.76415147],\n",
       "       [ 1.94392777],\n",
       "       [-1.49594033],\n",
       "       [ 1.85033709],\n",
       "       [ 2.84141029],\n",
       "       [-1.52263948],\n",
       "       [ 1.1847916 ],\n",
       "       [-0.66828978],\n",
       "       [-1.83735468],\n",
       "       [ 1.42536156],\n",
       "       [-0.79032666],\n",
       "       [ 0.0447248 ],\n",
       "       [-1.16809864],\n",
       "       [-0.86639694],\n",
       "       [ 0.4839357 ],\n",
       "       [ 2.09182867],\n",
       "       [ 1.01323446],\n",
       "       [-1.89168034],\n",
       "       [ 2.22519046],\n",
       "       [ 0.60148321],\n",
       "       [ 0.03788971],\n",
       "       [-2.08095978],\n",
       "       [ 0.31229747],\n",
       "       [-0.93332714],\n",
       "       [ 2.53411082],\n",
       "       [ 2.1350713 ],\n",
       "       [-0.42447748],\n",
       "       [ 2.99910987],\n",
       "       [ 1.91367662],\n",
       "       [-0.78855223],\n",
       "       [ 2.66575797]])"
      ]
     },
     "execution_count": 11,
     "metadata": {},
     "output_type": "execute_result"
    }
   ],
   "source": [
    "X_train"
   ]
  },
  {
   "cell_type": "code",
   "execution_count": 8,
   "id": "4964be81",
   "metadata": {},
   "outputs": [
    {
     "data": {
      "text/html": [
       "<style>#sk-container-id-1 {color: black;background-color: white;}#sk-container-id-1 pre{padding: 0;}#sk-container-id-1 div.sk-toggleable {background-color: white;}#sk-container-id-1 label.sk-toggleable__label {cursor: pointer;display: block;width: 100%;margin-bottom: 0;padding: 0.3em;box-sizing: border-box;text-align: center;}#sk-container-id-1 label.sk-toggleable__label-arrow:before {content: \"▸\";float: left;margin-right: 0.25em;color: #696969;}#sk-container-id-1 label.sk-toggleable__label-arrow:hover:before {color: black;}#sk-container-id-1 div.sk-estimator:hover label.sk-toggleable__label-arrow:before {color: black;}#sk-container-id-1 div.sk-toggleable__content {max-height: 0;max-width: 0;overflow: hidden;text-align: left;background-color: #f0f8ff;}#sk-container-id-1 div.sk-toggleable__content pre {margin: 0.2em;color: black;border-radius: 0.25em;background-color: #f0f8ff;}#sk-container-id-1 input.sk-toggleable__control:checked~div.sk-toggleable__content {max-height: 200px;max-width: 100%;overflow: auto;}#sk-container-id-1 input.sk-toggleable__control:checked~label.sk-toggleable__label-arrow:before {content: \"▾\";}#sk-container-id-1 div.sk-estimator input.sk-toggleable__control:checked~label.sk-toggleable__label {background-color: #d4ebff;}#sk-container-id-1 div.sk-label input.sk-toggleable__control:checked~label.sk-toggleable__label {background-color: #d4ebff;}#sk-container-id-1 input.sk-hidden--visually {border: 0;clip: rect(1px 1px 1px 1px);clip: rect(1px, 1px, 1px, 1px);height: 1px;margin: -1px;overflow: hidden;padding: 0;position: absolute;width: 1px;}#sk-container-id-1 div.sk-estimator {font-family: monospace;background-color: #f0f8ff;border: 1px dotted black;border-radius: 0.25em;box-sizing: border-box;margin-bottom: 0.5em;}#sk-container-id-1 div.sk-estimator:hover {background-color: #d4ebff;}#sk-container-id-1 div.sk-parallel-item::after {content: \"\";width: 100%;border-bottom: 1px solid gray;flex-grow: 1;}#sk-container-id-1 div.sk-label:hover label.sk-toggleable__label {background-color: #d4ebff;}#sk-container-id-1 div.sk-serial::before {content: \"\";position: absolute;border-left: 1px solid gray;box-sizing: border-box;top: 0;bottom: 0;left: 50%;z-index: 0;}#sk-container-id-1 div.sk-serial {display: flex;flex-direction: column;align-items: center;background-color: white;padding-right: 0.2em;padding-left: 0.2em;position: relative;}#sk-container-id-1 div.sk-item {position: relative;z-index: 1;}#sk-container-id-1 div.sk-parallel {display: flex;align-items: stretch;justify-content: center;background-color: white;position: relative;}#sk-container-id-1 div.sk-item::before, #sk-container-id-1 div.sk-parallel-item::before {content: \"\";position: absolute;border-left: 1px solid gray;box-sizing: border-box;top: 0;bottom: 0;left: 50%;z-index: -1;}#sk-container-id-1 div.sk-parallel-item {display: flex;flex-direction: column;z-index: 1;position: relative;background-color: white;}#sk-container-id-1 div.sk-parallel-item:first-child::after {align-self: flex-end;width: 50%;}#sk-container-id-1 div.sk-parallel-item:last-child::after {align-self: flex-start;width: 50%;}#sk-container-id-1 div.sk-parallel-item:only-child::after {width: 0;}#sk-container-id-1 div.sk-dashed-wrapped {border: 1px dashed gray;margin: 0 0.4em 0.5em 0.4em;box-sizing: border-box;padding-bottom: 0.4em;background-color: white;}#sk-container-id-1 div.sk-label label {font-family: monospace;font-weight: bold;display: inline-block;line-height: 1.2em;}#sk-container-id-1 div.sk-label-container {text-align: center;}#sk-container-id-1 div.sk-container {/* jupyter's `normalize.less` sets `[hidden] { display: none; }` but bootstrap.min.css set `[hidden] { display: none !important; }` so we also need the `!important` here to be able to override the default hidden behavior on the sphinx rendered scikit-learn.org. See: https://github.com/scikit-learn/scikit-learn/issues/21755 */display: inline-block !important;position: relative;}#sk-container-id-1 div.sk-text-repr-fallback {display: none;}</style><div id=\"sk-container-id-1\" class=\"sk-top-container\"><div class=\"sk-text-repr-fallback\"><pre>LinearRegression()</pre><b>In a Jupyter environment, please rerun this cell to show the HTML representation or trust the notebook. <br />On GitHub, the HTML representation is unable to render, please try loading this page with nbviewer.org.</b></div><div class=\"sk-container\" hidden><div class=\"sk-item\"><div class=\"sk-estimator sk-toggleable\"><input class=\"sk-toggleable__control sk-hidden--visually\" id=\"sk-estimator-id-1\" type=\"checkbox\" checked><label for=\"sk-estimator-id-1\" class=\"sk-toggleable__label sk-toggleable__label-arrow\">LinearRegression</label><div class=\"sk-toggleable__content\"><pre>LinearRegression()</pre></div></div></div></div></div>"
      ],
      "text/plain": [
       "LinearRegression()"
      ]
     },
     "execution_count": 8,
     "metadata": {},
     "output_type": "execute_result"
    }
   ],
   "source": [
    "regression.fit(X_train,y_train)"
   ]
  },
  {
   "cell_type": "code",
   "execution_count": 10,
   "id": "e4f7dbcd",
   "metadata": {},
   "outputs": [
    {
     "name": "stdout",
     "output_type": "stream",
     "text": [
      "0.7830087971667611\n"
     ]
    }
   ],
   "source": [
    "from sklearn.metrics import r2_score\n",
    "score = r2_score(y_test,regression.predict(X_test))\n",
    "print(score)"
   ]
  },
  {
   "cell_type": "markdown",
   "id": "d0bf77cc",
   "metadata": {},
   "source": [
    "Let's visualize the model"
   ]
  },
  {
   "cell_type": "code",
   "execution_count": 12,
   "id": "3a9f004c",
   "metadata": {},
   "outputs": [
    {
     "data": {
      "text/plain": [
       "<matplotlib.collections.PathCollection at 0x1b6ffe35840>"
      ]
     },
     "execution_count": 12,
     "metadata": {},
     "output_type": "execute_result"
    },
    {
     "data": {
      "image/png": "[encoded data removed]",
      "text/plain": [
       "<Figure size 640x480 with 1 Axes>"
      ]
     },
     "metadata": {},
     "output_type": "display_data"
    }
   ],
   "source": [
    "plt.plot(X_train,regression.predict(X_train),color='r')\n",
    "plt.scatter(X_train,y_train)"
   ]
  },
  {
   "cell_type": "markdown",
   "id": "7541f6ba",
   "metadata": {},
   "source": [
    "Polynomial regression extends linear regression by adding polynomial features \n",
    "of the input variables. For example, for degree 2, the model is:\n",
    "    \n",
    "    hθ (x)= β0 + β1x + β2x^2\n",
    "    \n",
    "Polynomial Features  are used to increase the degree which is for\n",
    "transformations\n"
   ]
  },
  {
   "cell_type": "code",
   "execution_count": 15,
   "id": "ffec69a8",
   "metadata": {},
   "outputs": [],
   "source": [
    "# Lets apply Polynomial transformation\n",
    "from sklear.preprocessing import PolynomialFeatures"
   ]
  },
  {
   "cell_type": "code",
   "execution_count": 18,
   "id": "af0fb394",
   "metadata": {},
   "outputs": [],
   "source": [
    "poly = PolynomialFeatures(degree=2,include_bias=True)\n",
    "X_train_poly = poly.fit_transform(X_train)\n",
    "X_test_poly = poly.transform(X_test)"
   ]
  },
  {
   "cell_type": "markdown",
   "id": "9b89c56c",
   "metadata": {},
   "source": [
    "include_bias : bool, default=True\n",
    "    If `True` (default), then include a bias column, the feature in which all polynomial powers are zero (i.e. a column of ones - acts as an intercept term in a linear model)."
   ]
  },
  {
   "cell_type": "code",
   "execution_count": 19,
   "id": "d8a6ec1a",
   "metadata": {},
   "outputs": [
    {
     "data": {
      "text/plain": [
       "array([[ 1.00000000e+00, -1.30583862e+00,  1.70521449e+00],\n",
       "       [ 1.00000000e+00, -3.52879433e-03,  1.24523894e-05],\n",
       "       [ 1.00000000e+00,  2.97431795e+00,  8.84656726e+00],\n",
       "       [ 1.00000000e+00,  1.65758860e+00,  2.74759995e+00],\n",
       "       [ 1.00000000e+00, -2.09265222e+00,  4.37919332e+00],\n",
       "       [ 1.00000000e+00, -2.43035425e+00,  5.90662177e+00],\n",
       "       [ 1.00000000e+00,  1.52115770e+00,  2.31392076e+00],\n",
       "       [ 1.00000000e+00,  4.95550258e-01,  2.45570058e-01],\n",
       "       [ 1.00000000e+00, -2.64468886e+00,  6.99437919e+00],\n",
       "       [ 1.00000000e+00, -2.29358323e+00,  5.26052405e+00],\n",
       "       [ 1.00000000e+00,  2.69323192e+00,  7.25349818e+00],\n",
       "       [ 1.00000000e+00,  1.97776099e+00,  3.91153852e+00],\n",
       "       [ 1.00000000e+00,  2.77887559e+00,  7.72214953e+00],\n",
       "       [ 1.00000000e+00,  8.82535672e-01,  7.78869213e-01],\n",
       "       [ 1.00000000e+00, -6.64132128e-01,  4.41071483e-01],\n",
       "       [ 1.00000000e+00,  2.98358734e+00,  8.90179339e+00],\n",
       "       [ 1.00000000e+00, -1.93245027e+00,  3.73436404e+00],\n",
       "       [ 1.00000000e+00, -6.41072860e-01,  4.10974412e-01],\n",
       "       [ 1.00000000e+00, -1.11330480e+00,  1.23944758e+00],\n",
       "       [ 1.00000000e+00, -1.96625801e+00,  3.86617056e+00],\n",
       "       [ 1.00000000e+00, -1.17236565e+00,  1.37444122e+00],\n",
       "       [ 1.00000000e+00,  1.59932859e+00,  2.55785195e+00],\n",
       "       [ 1.00000000e+00, -1.88924245e+00,  3.56923702e+00],\n",
       "       [ 1.00000000e+00, -2.62724971e+00,  6.90244106e+00],\n",
       "       [ 1.00000000e+00, -2.55478877e+00,  6.52694568e+00],\n",
       "       [ 1.00000000e+00,  2.16228035e-01,  4.67545631e-02],\n",
       "       [ 1.00000000e+00,  1.16312166e+00,  1.35285199e+00],\n",
       "       [ 1.00000000e+00, -6.78344135e-01,  4.60150765e-01],\n",
       "       [ 1.00000000e+00, -1.41727791e+00,  2.00867666e+00],\n",
       "       [ 1.00000000e+00, -1.31879359e+00,  1.73921654e+00],\n",
       "       [ 1.00000000e+00,  2.69926831e+00,  7.28604941e+00],\n",
       "       [ 1.00000000e+00, -3.23142422e-01,  1.04421025e-01],\n",
       "       [ 1.00000000e+00,  2.61772416e+00,  6.85247977e+00],\n",
       "       [ 1.00000000e+00,  1.96062313e+00,  3.84404307e+00],\n",
       "       [ 1.00000000e+00, -8.40195519e-01,  7.05928510e-01],\n",
       "       [ 1.00000000e+00, -2.39102515e+00,  5.71700126e+00],\n",
       "       [ 1.00000000e+00, -1.91563866e-01,  3.66967146e-02],\n",
       "       [ 1.00000000e+00, -8.30688369e-01,  6.90043167e-01],\n",
       "       [ 1.00000000e+00, -1.87222038e-01,  3.50520913e-02],\n",
       "       [ 1.00000000e+00, -2.41038551e+00,  5.80995832e+00],\n",
       "       [ 1.00000000e+00,  1.59328224e+00,  2.53854831e+00],\n",
       "       [ 1.00000000e+00, -1.63194141e+00,  2.66323276e+00],\n",
       "       [ 1.00000000e+00, -2.80425175e+00,  7.86382787e+00],\n",
       "       [ 1.00000000e+00, -2.66438407e+00,  7.09894247e+00],\n",
       "       [ 1.00000000e+00,  1.85698979e+00,  3.44841107e+00],\n",
       "       [ 1.00000000e+00,  4.23397903e-01,  1.79265784e-01],\n",
       "       [ 1.00000000e+00,  2.80502095e+00,  7.86814251e+00],\n",
       "       [ 1.00000000e+00,  3.51700762e-01,  1.23693426e-01],\n",
       "       [ 1.00000000e+00,  2.59048729e-01,  6.71062440e-02],\n",
       "       [ 1.00000000e+00,  7.64151468e-01,  5.83927465e-01],\n",
       "       [ 1.00000000e+00,  1.94392777e+00,  3.77885516e+00],\n",
       "       [ 1.00000000e+00, -1.49594033e+00,  2.23783746e+00],\n",
       "       [ 1.00000000e+00,  1.85033709e+00,  3.42374733e+00],\n",
       "       [ 1.00000000e+00,  2.84141029e+00,  8.07361245e+00],\n",
       "       [ 1.00000000e+00, -1.52263948e+00,  2.31843098e+00],\n",
       "       [ 1.00000000e+00,  1.18479160e+00,  1.40373113e+00],\n",
       "       [ 1.00000000e+00, -6.68289784e-01,  4.46611235e-01],\n",
       "       [ 1.00000000e+00, -1.83735468e+00,  3.37587222e+00],\n",
       "       [ 1.00000000e+00,  1.42536156e+00,  2.03165559e+00],\n",
       "       [ 1.00000000e+00, -7.90326657e-01,  6.24616225e-01],\n",
       "       [ 1.00000000e+00,  4.47247986e-02,  2.00030761e-03],\n",
       "       [ 1.00000000e+00, -1.16809864e+00,  1.36445444e+00],\n",
       "       [ 1.00000000e+00, -8.66396939e-01,  7.50643656e-01],\n",
       "       [ 1.00000000e+00,  4.83935698e-01,  2.34193760e-01],\n",
       "       [ 1.00000000e+00,  2.09182867e+00,  4.37574719e+00],\n",
       "       [ 1.00000000e+00,  1.01323446e+00,  1.02664407e+00],\n",
       "       [ 1.00000000e+00, -1.89168034e+00,  3.57845449e+00],\n",
       "       [ 1.00000000e+00,  2.22519046e+00,  4.95147257e+00],\n",
       "       [ 1.00000000e+00,  6.01483211e-01,  3.61782053e-01],\n",
       "       [ 1.00000000e+00,  3.78897142e-02,  1.43563044e-03],\n",
       "       [ 1.00000000e+00, -2.08095978e+00,  4.33039362e+00],\n",
       "       [ 1.00000000e+00,  3.12297475e-01,  9.75297128e-02],\n",
       "       [ 1.00000000e+00, -9.33327144e-01,  8.71099558e-01],\n",
       "       [ 1.00000000e+00,  2.53411082e+00,  6.42171766e+00],\n",
       "       [ 1.00000000e+00,  2.13507130e+00,  4.55852947e+00],\n",
       "       [ 1.00000000e+00, -4.24477476e-01,  1.80181128e-01],\n",
       "       [ 1.00000000e+00,  2.99910987e+00,  8.99466002e+00],\n",
       "       [ 1.00000000e+00,  1.91367662e+00,  3.66215821e+00],\n",
       "       [ 1.00000000e+00, -7.88552229e-01,  6.21814617e-01],\n",
       "       [ 1.00000000e+00,  2.66575797e+00,  7.10626553e+00]])"
      ]
     },
     "execution_count": 19,
     "metadata": {},
     "output_type": "execute_result"
    }
   ],
   "source": [
    "X_train_poly"
   ]
  },
  {
   "cell_type": "code",
   "execution_count": 20,
   "id": "1024affb",
   "metadata": {},
   "outputs": [
    {
     "data": {
      "text/plain": [
       "array([[ 1.00000000e+00,  2.33315801e+00,  5.44362632e+00],\n",
       "       [ 1.00000000e+00, -5.25522524e-01,  2.76173923e-01],\n",
       "       [ 1.00000000e+00,  2.25165004e+00,  5.06992790e+00],\n",
       "       [ 1.00000000e+00, -2.34829289e+00,  5.51447951e+00],\n",
       "       [ 1.00000000e+00,  2.70455199e+00,  7.31460144e+00],\n",
       "       [ 1.00000000e+00, -2.95685873e+00,  8.74301355e+00],\n",
       "       [ 1.00000000e+00, -1.64934988e+00,  2.72035503e+00],\n",
       "       [ 1.00000000e+00,  8.10903073e-01,  6.57563794e-01],\n",
       "       [ 1.00000000e+00,  2.20877888e+00,  4.87870412e+00],\n",
       "       [ 1.00000000e+00, -9.28519149e-02,  8.62147810e-03],\n",
       "       [ 1.00000000e+00,  1.76588424e+00,  3.11834715e+00],\n",
       "       [ 1.00000000e+00, -2.15618810e+00,  4.64914713e+00],\n",
       "       [ 1.00000000e+00,  2.53050705e+00,  6.40346592e+00],\n",
       "       [ 1.00000000e+00,  2.53579554e+00,  6.43025900e+00],\n",
       "       [ 1.00000000e+00, -1.10457739e+00,  1.22009122e+00],\n",
       "       [ 1.00000000e+00,  2.42303124e+00,  5.87108041e+00],\n",
       "       [ 1.00000000e+00,  1.30064702e+00,  1.69168267e+00],\n",
       "       [ 1.00000000e+00,  1.40289168e+00,  1.96810508e+00],\n",
       "       [ 1.00000000e+00, -5.99469434e-01,  3.59363602e-01],\n",
       "       [ 1.00000000e+00, -1.62231651e+00,  2.63191086e+00]])"
      ]
     },
     "execution_count": 20,
     "metadata": {},
     "output_type": "execute_result"
    }
   ],
   "source": [
    "X_test_poly "
   ]
  },
  {
   "cell_type": "code",
   "execution_count": 24,
   "id": "2991e84b",
   "metadata": {},
   "outputs": [
    {
     "name": "stdout",
     "output_type": "stream",
     "text": [
      "0.9047150420275611\n"
     ]
    }
   ],
   "source": [
    "from sklearn.metrics import r2_score\n",
    "regression_1 = LinearRegression()\n",
    "regression_1.fit(X_train_poly,y_train)\n",
    "y_pred = regression_1.predict(X_test_poly)\n",
    "score = r2_score(y_test,y_pred)\n",
    "print(score)"
   ]
  },
  {
   "cell_type": "code",
   "execution_count": 26,
   "id": "eaac584e",
   "metadata": {},
   "outputs": [
    {
     "name": "stdout",
     "output_type": "stream",
     "text": [
      "[[0.         1.53839993 0.53181283]]\n"
     ]
    }
   ],
   "source": [
    "print(regression_1.coef_)"
   ]
  },
  {
   "cell_type": "code",
   "execution_count": 27,
   "id": "ead010ca",
   "metadata": {},
   "outputs": [
    {
     "name": "stdout",
     "output_type": "stream",
     "text": [
      "[1.84032565]\n"
     ]
    }
   ],
   "source": [
    "print(regression_1.intercept_)"
   ]
  },
  {
   "cell_type": "code",
   "execution_count": 29,
   "id": "7bd60dcb",
   "metadata": {
    "scrolled": true
   },
   "outputs": [
    {
     "data": {
      "text/plain": [
       "<matplotlib.collections.PathCollection at 0x1b6ff6d0460>"
      ]
     },
     "execution_count": 29,
     "metadata": {},
     "output_type": "execute_result"
    },
    {
     "data": {
      "image/png": "[encoded data removed]",
      "text/plain": [
       "<Figure size 640x480 with 1 Axes>"
      ]
     },
     "metadata": {},
     "output_type": "display_data"
    }
   ],
   "source": [
    "plt.scatter(X_train,regression_1.predict(X_train_poly))\n",
    "plt.scatter(X_train,y_train)"
   ]
  },
  {
   "cell_type": "code",
   "execution_count": 33,
   "id": "8944eb86",
   "metadata": {},
   "outputs": [],
   "source": [
    "poly = PolynomialFeatures(degree=3,include_bias=True)\n",
    "X_train_poly = poly.fit_transform(X_train)\n",
    "X_test_poly = poly.transform(X_test)"
   ]
  },
  {
   "cell_type": "code",
   "execution_count": 34,
   "id": "c0777d2f",
   "metadata": {},
   "outputs": [
    {
     "data": {
      "text/plain": [
       "array([[ 1.00000000e+00, -1.30583862e+00,  1.70521449e+00,\n",
       "        -2.22673494e+00],\n",
       "       [ 1.00000000e+00, -3.52879433e-03,  1.24523894e-05,\n",
       "        -4.39419212e-08],\n",
       "       [ 1.00000000e+00,  2.97431795e+00,  8.84656726e+00,\n",
       "         2.63125038e+01],\n",
       "       [ 1.00000000e+00,  1.65758860e+00,  2.74759995e+00,\n",
       "         4.55439035e+00],\n",
       "       [ 1.00000000e+00, -2.09265222e+00,  4.37919332e+00,\n",
       "        -9.16412864e+00],\n",
       "       [ 1.00000000e+00, -2.43035425e+00,  5.90662177e+00,\n",
       "        -1.43551833e+01],\n",
       "       [ 1.00000000e+00,  1.52115770e+00,  2.31392076e+00,\n",
       "         3.51983838e+00],\n",
       "       [ 1.00000000e+00,  4.95550258e-01,  2.45570058e-01,\n",
       "         1.21692306e-01],\n",
       "       [ 1.00000000e+00, -2.64468886e+00,  6.99437919e+00,\n",
       "        -1.84979567e+01],\n",
       "       [ 1.00000000e+00, -2.29358323e+00,  5.26052405e+00,\n",
       "        -1.20654498e+01],\n",
       "       [ 1.00000000e+00,  2.69323192e+00,  7.25349818e+00,\n",
       "         1.95353528e+01],\n",
       "       [ 1.00000000e+00,  1.97776099e+00,  3.91153852e+00,\n",
       "         7.73608829e+00],\n",
       "       [ 1.00000000e+00,  2.77887559e+00,  7.72214953e+00,\n",
       "         2.14588928e+01],\n",
       "       [ 1.00000000e+00,  8.82535672e-01,  7.78869213e-01,\n",
       "         6.87379864e-01],\n",
       "       [ 1.00000000e+00, -6.64132128e-01,  4.41071483e-01,\n",
       "        -2.92929743e-01],\n",
       "       [ 1.00000000e+00,  2.98358734e+00,  8.90179339e+00,\n",
       "         2.65592780e+01],\n",
       "       [ 1.00000000e+00, -1.93245027e+00,  3.73436404e+00,\n",
       "        -7.21647280e+00],\n",
       "       [ 1.00000000e+00, -6.41072860e-01,  4.10974412e-01,\n",
       "        -2.63464541e-01],\n",
       "       [ 1.00000000e+00, -1.11330480e+00,  1.23944758e+00,\n",
       "        -1.37988294e+00],\n",
       "       [ 1.00000000e+00, -1.96625801e+00,  3.86617056e+00,\n",
       "        -7.60188884e+00],\n",
       "       [ 1.00000000e+00, -1.17236565e+00,  1.37444122e+00,\n",
       "        -1.61134767e+00],\n",
       "       [ 1.00000000e+00,  1.59932859e+00,  2.55785195e+00,\n",
       "         4.09084576e+00],\n",
       "       [ 1.00000000e+00, -1.88924245e+00,  3.56923702e+00,\n",
       "        -6.74315408e+00],\n",
       "       [ 1.00000000e+00, -2.62724971e+00,  6.90244106e+00,\n",
       "        -1.81344363e+01],\n",
       "       [ 1.00000000e+00, -2.55478877e+00,  6.52694568e+00,\n",
       "        -1.66749676e+01],\n",
       "       [ 1.00000000e+00,  2.16228035e-01,  4.67545631e-02,\n",
       "         1.01096473e-02],\n",
       "       [ 1.00000000e+00,  1.16312166e+00,  1.35285199e+00,\n",
       "         1.57353146e+00],\n",
       "       [ 1.00000000e+00, -6.78344135e-01,  4.60150765e-01,\n",
       "        -3.12140573e-01],\n",
       "       [ 1.00000000e+00, -1.41727791e+00,  2.00867666e+00,\n",
       "        -2.84685306e+00],\n",
       "       [ 1.00000000e+00, -1.31879359e+00,  1.73921654e+00,\n",
       "        -2.29366762e+00],\n",
       "       [ 1.00000000e+00,  2.69926831e+00,  7.28604941e+00,\n",
       "         1.96670023e+01],\n",
       "       [ 1.00000000e+00, -3.23142422e-01,  1.04421025e-01,\n",
       "        -3.37428629e-02],\n",
       "       [ 1.00000000e+00,  2.61772416e+00,  6.85247977e+00,\n",
       "         1.79379018e+01],\n",
       "       [ 1.00000000e+00,  1.96062313e+00,  3.84404307e+00,\n",
       "         7.53671977e+00],\n",
       "       [ 1.00000000e+00, -8.40195519e-01,  7.05928510e-01,\n",
       "        -5.93117971e-01],\n",
       "       [ 1.00000000e+00, -2.39102515e+00,  5.71700126e+00,\n",
       "        -1.36694938e+01],\n",
       "       [ 1.00000000e+00, -1.91563866e-01,  3.66967146e-02,\n",
       "        -7.02976452e-03],\n",
       "       [ 1.00000000e+00, -8.30688369e-01,  6.90043167e-01,\n",
       "        -5.73210833e-01],\n",
       "       [ 1.00000000e+00, -1.87222038e-01,  3.50520913e-02,\n",
       "        -6.56252396e-03],\n",
       "       [ 1.00000000e+00, -2.41038551e+00,  5.80995832e+00,\n",
       "        -1.40042394e+01],\n",
       "       [ 1.00000000e+00,  1.59328224e+00,  2.53854831e+00,\n",
       "         4.04462394e+00],\n",
       "       [ 1.00000000e+00, -1.63194141e+00,  2.66323276e+00,\n",
       "        -4.34623982e+00],\n",
       "       [ 1.00000000e+00, -2.80425175e+00,  7.86382787e+00,\n",
       "        -2.20521531e+01],\n",
       "       [ 1.00000000e+00, -2.66438407e+00,  7.09894247e+00,\n",
       "        -1.89143092e+01],\n",
       "       [ 1.00000000e+00,  1.85698979e+00,  3.44841107e+00,\n",
       "         6.40366413e+00],\n",
       "       [ 1.00000000e+00,  4.23397903e-01,  1.79265784e-01,\n",
       "         7.59007570e-02],\n",
       "       [ 1.00000000e+00,  2.80502095e+00,  7.86814251e+00,\n",
       "         2.20703045e+01],\n",
       "       [ 1.00000000e+00,  3.51700762e-01,  1.23693426e-01,\n",
       "         4.35030720e-02],\n",
       "       [ 1.00000000e+00,  2.59048729e-01,  6.71062440e-02,\n",
       "         1.73837872e-02],\n",
       "       [ 1.00000000e+00,  7.64151468e-01,  5.83927465e-01,\n",
       "         4.46209030e-01],\n",
       "       [ 1.00000000e+00,  1.94392777e+00,  3.77885516e+00,\n",
       "         7.34582146e+00],\n",
       "       [ 1.00000000e+00, -1.49594033e+00,  2.23783746e+00,\n",
       "        -3.34767131e+00],\n",
       "       [ 1.00000000e+00,  1.85033709e+00,  3.42374733e+00,\n",
       "         6.33508666e+00],\n",
       "       [ 1.00000000e+00,  2.84141029e+00,  8.07361245e+00,\n",
       "         2.29404455e+01],\n",
       "       [ 1.00000000e+00, -1.52263948e+00,  2.31843098e+00,\n",
       "        -3.53013453e+00],\n",
       "       [ 1.00000000e+00,  1.18479160e+00,  1.40373113e+00,\n",
       "         1.66312885e+00],\n",
       "       [ 1.00000000e+00, -6.68289784e-01,  4.46611235e-01,\n",
       "        -2.98465726e-01],\n",
       "       [ 1.00000000e+00, -1.83735468e+00,  3.37587222e+00,\n",
       "        -6.20267463e+00],\n",
       "       [ 1.00000000e+00,  1.42536156e+00,  2.03165559e+00,\n",
       "         2.89584378e+00],\n",
       "       [ 1.00000000e+00, -7.90326657e-01,  6.24616225e-01,\n",
       "        -4.93650853e-01],\n",
       "       [ 1.00000000e+00,  4.47247986e-02,  2.00030761e-03,\n",
       "         8.94633550e-05],\n",
       "       [ 1.00000000e+00, -1.16809864e+00,  1.36445444e+00,\n",
       "        -1.59381738e+00],\n",
       "       [ 1.00000000e+00, -8.66396939e-01,  7.50643656e-01,\n",
       "        -6.50355366e-01],\n",
       "       [ 1.00000000e+00,  4.83935698e-01,  2.34193760e-01,\n",
       "         1.13334721e-01],\n",
       "       [ 1.00000000e+00,  2.09182867e+00,  4.37574719e+00,\n",
       "         9.15331342e+00],\n",
       "       [ 1.00000000e+00,  1.01323446e+00,  1.02664407e+00,\n",
       "         1.04023115e+00],\n",
       "       [ 1.00000000e+00, -1.89168034e+00,  3.57845449e+00,\n",
       "        -6.76929199e+00],\n",
       "       [ 1.00000000e+00,  2.22519046e+00,  4.95147257e+00,\n",
       "         1.10179695e+01],\n",
       "       [ 1.00000000e+00,  6.01483211e-01,  3.61782053e-01,\n",
       "         2.17605831e-01],\n",
       "       [ 1.00000000e+00,  3.78897142e-02,  1.43563044e-03,\n",
       "         5.43956271e-05],\n",
       "       [ 1.00000000e+00, -2.08095978e+00,  4.33039362e+00,\n",
       "        -9.01137497e+00],\n",
       "       [ 1.00000000e+00,  3.12297475e-01,  9.75297128e-02,\n",
       "         3.04582830e-02],\n",
       "       [ 1.00000000e+00, -9.33327144e-01,  8.71099558e-01,\n",
       "        -8.13020863e-01],\n",
       "       [ 1.00000000e+00,  2.53411082e+00,  6.42171766e+00,\n",
       "         1.62733442e+01],\n",
       "       [ 1.00000000e+00,  2.13507130e+00,  4.55852947e+00,\n",
       "         9.73278545e+00],\n",
       "       [ 1.00000000e+00, -4.24477476e-01,  1.80181128e-01,\n",
       "        -7.64828305e-02],\n",
       "       [ 1.00000000e+00,  2.99910987e+00,  8.99466002e+00,\n",
       "         2.69759737e+01],\n",
       "       [ 1.00000000e+00,  1.91367662e+00,  3.66215821e+00,\n",
       "         7.00818655e+00],\n",
       "       [ 1.00000000e+00, -7.88552229e-01,  6.21814617e-01,\n",
       "        -4.90333302e-01],\n",
       "       [ 1.00000000e+00,  2.66575797e+00,  7.10626553e+00,\n",
       "         1.89435840e+01]])"
      ]
     },
     "execution_count": 34,
     "metadata": {},
     "output_type": "execute_result"
    }
   ],
   "source": [
    "X_train_poly"
   ]
  },
  {
   "cell_type": "code",
   "execution_count": 36,
   "id": "80c65a34",
   "metadata": {},
   "outputs": [
    {
     "name": "stdout",
     "output_type": "stream",
     "text": [
      "0.8967221414798296\n"
     ]
    }
   ],
   "source": [
    "from sklearn.metrics import r2_score\n",
    "regression_1 = LinearRegression()\n",
    "regression_1.fit(X_train_poly,y_train)\n",
    "y_pred = regression_1.predict(X_test_poly)\n",
    "score = r2_score(y_test,y_pred)\n",
    "print(score)"
   ]
  },
  {
   "cell_type": "code",
   "execution_count": null,
   "id": "f5f47952",
   "metadata": {},
   "outputs": [],
   "source": []
  }
 ],
 "metadata": {
  "kernelspec": {
   "display_name": "Python 3 (ipykernel)",
   "language": "python",
   "name": "python3"
  },
  "language_info": {
   "codemirror_mode": {
    "name": "ipython",
    "version": 3
   },
   "file_extension": ".py",
   "mimetype": "text/x-python",
   "name": "python",
   "nbconvert_exporter": "python",
   "pygments_lexer": "ipython3",
   "version": "3.10.9"
  }
 },
 "nbformat": 4,
 "nbformat_minor": 5
}
