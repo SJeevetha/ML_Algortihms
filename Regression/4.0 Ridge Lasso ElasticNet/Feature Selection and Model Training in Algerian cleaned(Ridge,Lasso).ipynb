{
 "cells": [
  {
   "cell_type": "code",
   "execution_count": 1,
   "id": "1333bc8b",
   "metadata": {},
   "outputs": [],
   "source": [
    "import pandas as pd\n",
    "import numpy as np\n",
    "import matplotlib.pyplot as plt\n",
    "import seaborn as sns\n",
    "from sklearn.model_selection import train_test_split\n",
    "from sklearn.preprocessing import StandardScaler"
   ]
  },
  {
   "cell_type": "code",
   "execution_count": 2,
   "id": "b41d90f9",
   "metadata": {},
   "outputs": [
    {
     "data": {
      "text/html": [
       "<div>\n",
       "<style scoped>\n",
       "    .dataframe tbody tr th:only-of-type {\n",
       "        vertical-align: middle;\n",
       "    }\n",
       "\n",
       "    .dataframe tbody tr th {\n",
       "        vertical-align: top;\n",
       "    }\n",
       "\n",
       "    .dataframe thead th {\n",
       "        text-align: right;\n",
       "    }\n",
       "</style>\n",
       "<table border=\"1\" class=\"dataframe\">\n",
       "  <thead>\n",
       "    <tr style=\"text-align: right;\">\n",
       "      <th></th>\n",
       "      <th>day</th>\n",
       "      <th>month</th>\n",
       "      <th>year</th>\n",
       "      <th>Temperature</th>\n",
       "      <th>RH</th>\n",
       "      <th>Ws</th>\n",
       "      <th>Rain</th>\n",
       "      <th>FFMC</th>\n",
       "      <th>DMC</th>\n",
       "      <th>DC</th>\n",
       "      <th>ISI</th>\n",
       "      <th>BUI</th>\n",
       "      <th>FWI</th>\n",
       "      <th>Classes</th>\n",
       "      <th>Region</th>\n",
       "    </tr>\n",
       "  </thead>\n",
       "  <tbody>\n",
       "    <tr>\n",
       "      <th>0</th>\n",
       "      <td>1</td>\n",
       "      <td>6</td>\n",
       "      <td>2012</td>\n",
       "      <td>29</td>\n",
       "      <td>57</td>\n",
       "      <td>18</td>\n",
       "      <td>0.0</td>\n",
       "      <td>65.7</td>\n",
       "      <td>3.4</td>\n",
       "      <td>7.6</td>\n",
       "      <td>1.3</td>\n",
       "      <td>3.4</td>\n",
       "      <td>0.5</td>\n",
       "      <td>not fire</td>\n",
       "      <td>0</td>\n",
       "    </tr>\n",
       "    <tr>\n",
       "      <th>1</th>\n",
       "      <td>2</td>\n",
       "      <td>6</td>\n",
       "      <td>2012</td>\n",
       "      <td>29</td>\n",
       "      <td>61</td>\n",
       "      <td>13</td>\n",
       "      <td>1.3</td>\n",
       "      <td>64.4</td>\n",
       "      <td>4.1</td>\n",
       "      <td>7.6</td>\n",
       "      <td>1.0</td>\n",
       "      <td>3.9</td>\n",
       "      <td>0.4</td>\n",
       "      <td>not fire</td>\n",
       "      <td>0</td>\n",
       "    </tr>\n",
       "    <tr>\n",
       "      <th>2</th>\n",
       "      <td>3</td>\n",
       "      <td>6</td>\n",
       "      <td>2012</td>\n",
       "      <td>26</td>\n",
       "      <td>82</td>\n",
       "      <td>22</td>\n",
       "      <td>13.1</td>\n",
       "      <td>47.1</td>\n",
       "      <td>2.5</td>\n",
       "      <td>7.1</td>\n",
       "      <td>0.3</td>\n",
       "      <td>2.7</td>\n",
       "      <td>0.1</td>\n",
       "      <td>not fire</td>\n",
       "      <td>0</td>\n",
       "    </tr>\n",
       "    <tr>\n",
       "      <th>3</th>\n",
       "      <td>4</td>\n",
       "      <td>6</td>\n",
       "      <td>2012</td>\n",
       "      <td>25</td>\n",
       "      <td>89</td>\n",
       "      <td>13</td>\n",
       "      <td>2.5</td>\n",
       "      <td>28.6</td>\n",
       "      <td>1.3</td>\n",
       "      <td>6.9</td>\n",
       "      <td>0.0</td>\n",
       "      <td>1.7</td>\n",
       "      <td>0.0</td>\n",
       "      <td>not fire</td>\n",
       "      <td>0</td>\n",
       "    </tr>\n",
       "    <tr>\n",
       "      <th>4</th>\n",
       "      <td>5</td>\n",
       "      <td>6</td>\n",
       "      <td>2012</td>\n",
       "      <td>27</td>\n",
       "      <td>77</td>\n",
       "      <td>16</td>\n",
       "      <td>0.0</td>\n",
       "      <td>64.8</td>\n",
       "      <td>3.0</td>\n",
       "      <td>14.2</td>\n",
       "      <td>1.2</td>\n",
       "      <td>3.9</td>\n",
       "      <td>0.5</td>\n",
       "      <td>not fire</td>\n",
       "      <td>0</td>\n",
       "    </tr>\n",
       "  </tbody>\n",
       "</table>\n",
       "</div>"
      ],
      "text/plain": [
       "   day  month  year  Temperature  RH  Ws  Rain  FFMC  DMC    DC  ISI  BUI  \\\n",
       "0    1      6  2012           29  57  18   0.0  65.7  3.4   7.6  1.3  3.4   \n",
       "1    2      6  2012           29  61  13   1.3  64.4  4.1   7.6  1.0  3.9   \n",
       "2    3      6  2012           26  82  22  13.1  47.1  2.5   7.1  0.3  2.7   \n",
       "3    4      6  2012           25  89  13   2.5  28.6  1.3   6.9  0.0  1.7   \n",
       "4    5      6  2012           27  77  16   0.0  64.8  3.0  14.2  1.2  3.9   \n",
       "\n",
       "   FWI      Classes  Region  \n",
       "0  0.5  not fire          0  \n",
       "1  0.4  not fire          0  \n",
       "2  0.1  not fire          0  \n",
       "3  0.0  not fire          0  \n",
       "4  0.5  not fire          0  "
      ]
     },
     "execution_count": 2,
     "metadata": {},
     "output_type": "execute_result"
    }
   ],
   "source": [
    "df = pd.read_csv('Algerian_forest_cleaned_dataset.csv')\n",
    "df.head()"
   ]
  },
  {
   "cell_type": "code",
   "execution_count": 3,
   "id": "0e5f9a85",
   "metadata": {},
   "outputs": [
    {
     "data": {
      "text/plain": [
       "Index(['day', 'month', 'year', 'Temperature', 'RH', 'Ws', 'Rain', 'FFMC',\n",
       "       'DMC', 'DC', 'ISI', 'BUI', 'FWI', 'Classes', 'Region'],\n",
       "      dtype='object')"
      ]
     },
     "execution_count": 3,
     "metadata": {},
     "output_type": "execute_result"
    }
   ],
   "source": [
    "df.columns"
   ]
  },
  {
   "cell_type": "code",
   "execution_count": 4,
   "id": "ecadc06b",
   "metadata": {},
   "outputs": [
    {
     "data": {
      "text/html": [
       "<div>\n",
       "<style scoped>\n",
       "    .dataframe tbody tr th:only-of-type {\n",
       "        vertical-align: middle;\n",
       "    }\n",
       "\n",
       "    .dataframe tbody tr th {\n",
       "        vertical-align: top;\n",
       "    }\n",
       "\n",
       "    .dataframe thead th {\n",
       "        text-align: right;\n",
       "    }\n",
       "</style>\n",
       "<table border=\"1\" class=\"dataframe\">\n",
       "  <thead>\n",
       "    <tr style=\"text-align: right;\">\n",
       "      <th></th>\n",
       "      <th>Temperature</th>\n",
       "      <th>RH</th>\n",
       "      <th>Ws</th>\n",
       "      <th>Rain</th>\n",
       "      <th>FFMC</th>\n",
       "      <th>DMC</th>\n",
       "      <th>DC</th>\n",
       "      <th>ISI</th>\n",
       "      <th>BUI</th>\n",
       "      <th>FWI</th>\n",
       "      <th>Classes</th>\n",
       "      <th>Region</th>\n",
       "    </tr>\n",
       "  </thead>\n",
       "  <tbody>\n",
       "    <tr>\n",
       "      <th>0</th>\n",
       "      <td>29</td>\n",
       "      <td>57</td>\n",
       "      <td>18</td>\n",
       "      <td>0.0</td>\n",
       "      <td>65.7</td>\n",
       "      <td>3.4</td>\n",
       "      <td>7.6</td>\n",
       "      <td>1.3</td>\n",
       "      <td>3.4</td>\n",
       "      <td>0.5</td>\n",
       "      <td>not fire</td>\n",
       "      <td>0</td>\n",
       "    </tr>\n",
       "    <tr>\n",
       "      <th>1</th>\n",
       "      <td>29</td>\n",
       "      <td>61</td>\n",
       "      <td>13</td>\n",
       "      <td>1.3</td>\n",
       "      <td>64.4</td>\n",
       "      <td>4.1</td>\n",
       "      <td>7.6</td>\n",
       "      <td>1.0</td>\n",
       "      <td>3.9</td>\n",
       "      <td>0.4</td>\n",
       "      <td>not fire</td>\n",
       "      <td>0</td>\n",
       "    </tr>\n",
       "    <tr>\n",
       "      <th>2</th>\n",
       "      <td>26</td>\n",
       "      <td>82</td>\n",
       "      <td>22</td>\n",
       "      <td>13.1</td>\n",
       "      <td>47.1</td>\n",
       "      <td>2.5</td>\n",
       "      <td>7.1</td>\n",
       "      <td>0.3</td>\n",
       "      <td>2.7</td>\n",
       "      <td>0.1</td>\n",
       "      <td>not fire</td>\n",
       "      <td>0</td>\n",
       "    </tr>\n",
       "    <tr>\n",
       "      <th>3</th>\n",
       "      <td>25</td>\n",
       "      <td>89</td>\n",
       "      <td>13</td>\n",
       "      <td>2.5</td>\n",
       "      <td>28.6</td>\n",
       "      <td>1.3</td>\n",
       "      <td>6.9</td>\n",
       "      <td>0.0</td>\n",
       "      <td>1.7</td>\n",
       "      <td>0.0</td>\n",
       "      <td>not fire</td>\n",
       "      <td>0</td>\n",
       "    </tr>\n",
       "    <tr>\n",
       "      <th>4</th>\n",
       "      <td>27</td>\n",
       "      <td>77</td>\n",
       "      <td>16</td>\n",
       "      <td>0.0</td>\n",
       "      <td>64.8</td>\n",
       "      <td>3.0</td>\n",
       "      <td>14.2</td>\n",
       "      <td>1.2</td>\n",
       "      <td>3.9</td>\n",
       "      <td>0.5</td>\n",
       "      <td>not fire</td>\n",
       "      <td>0</td>\n",
       "    </tr>\n",
       "  </tbody>\n",
       "</table>\n",
       "</div>"
      ],
      "text/plain": [
       "   Temperature  RH  Ws  Rain  FFMC  DMC    DC  ISI  BUI  FWI      Classes  \\\n",
       "0           29  57  18   0.0  65.7  3.4   7.6  1.3  3.4  0.5  not fire      \n",
       "1           29  61  13   1.3  64.4  4.1   7.6  1.0  3.9  0.4  not fire      \n",
       "2           26  82  22  13.1  47.1  2.5   7.1  0.3  2.7  0.1  not fire      \n",
       "3           25  89  13   2.5  28.6  1.3   6.9  0.0  1.7  0.0  not fire      \n",
       "4           27  77  16   0.0  64.8  3.0  14.2  1.2  3.9  0.5  not fire      \n",
       "\n",
       "   Region  \n",
       "0       0  \n",
       "1       0  \n",
       "2       0  \n",
       "3       0  \n",
       "4       0  "
      ]
     },
     "execution_count": 4,
     "metadata": {},
     "output_type": "execute_result"
    }
   ],
   "source": [
    "df.drop(['month', 'day', 'year'], axis=1, inplace=True)\n",
    "df.head()"
   ]
  },
  {
   "cell_type": "code",
   "execution_count": 5,
   "id": "55ea24b1",
   "metadata": {},
   "outputs": [
    {
     "data": {
      "text/plain": [
       "fire             131\n",
       "not fire         101\n",
       "fire               4\n",
       "fire               2\n",
       "not fire           2\n",
       "not fire           1\n",
       "not fire           1\n",
       "not fire           1\n",
       "Name: Classes, dtype: int64"
      ]
     },
     "execution_count": 5,
     "metadata": {},
     "output_type": "execute_result"
    }
   ],
   "source": [
    "df['Classes'].value_counts()"
   ]
  },
  {
   "cell_type": "code",
   "execution_count": 6,
   "id": "7d258428",
   "metadata": {},
   "outputs": [],
   "source": [
    "df['Classes'] = np.where(df['Classes'].str.contains(\"not fire\"),0,1)"
   ]
  },
  {
   "cell_type": "code",
   "execution_count": 7,
   "id": "2c62a84f",
   "metadata": {},
   "outputs": [
    {
     "data": {
      "text/html": [
       "<div>\n",
       "<style scoped>\n",
       "    .dataframe tbody tr th:only-of-type {\n",
       "        vertical-align: middle;\n",
       "    }\n",
       "\n",
       "    .dataframe tbody tr th {\n",
       "        vertical-align: top;\n",
       "    }\n",
       "\n",
       "    .dataframe thead th {\n",
       "        text-align: right;\n",
       "    }\n",
       "</style>\n",
       "<table border=\"1\" class=\"dataframe\">\n",
       "  <thead>\n",
       "    <tr style=\"text-align: right;\">\n",
       "      <th></th>\n",
       "      <th>Temperature</th>\n",
       "      <th>RH</th>\n",
       "      <th>Ws</th>\n",
       "      <th>Rain</th>\n",
       "      <th>FFMC</th>\n",
       "      <th>DMC</th>\n",
       "      <th>DC</th>\n",
       "      <th>ISI</th>\n",
       "      <th>BUI</th>\n",
       "      <th>FWI</th>\n",
       "      <th>Classes</th>\n",
       "      <th>Region</th>\n",
       "    </tr>\n",
       "  </thead>\n",
       "  <tbody>\n",
       "    <tr>\n",
       "      <th>0</th>\n",
       "      <td>29</td>\n",
       "      <td>57</td>\n",
       "      <td>18</td>\n",
       "      <td>0.0</td>\n",
       "      <td>65.7</td>\n",
       "      <td>3.4</td>\n",
       "      <td>7.6</td>\n",
       "      <td>1.3</td>\n",
       "      <td>3.4</td>\n",
       "      <td>0.5</td>\n",
       "      <td>0</td>\n",
       "      <td>0</td>\n",
       "    </tr>\n",
       "    <tr>\n",
       "      <th>1</th>\n",
       "      <td>29</td>\n",
       "      <td>61</td>\n",
       "      <td>13</td>\n",
       "      <td>1.3</td>\n",
       "      <td>64.4</td>\n",
       "      <td>4.1</td>\n",
       "      <td>7.6</td>\n",
       "      <td>1.0</td>\n",
       "      <td>3.9</td>\n",
       "      <td>0.4</td>\n",
       "      <td>0</td>\n",
       "      <td>0</td>\n",
       "    </tr>\n",
       "    <tr>\n",
       "      <th>2</th>\n",
       "      <td>26</td>\n",
       "      <td>82</td>\n",
       "      <td>22</td>\n",
       "      <td>13.1</td>\n",
       "      <td>47.1</td>\n",
       "      <td>2.5</td>\n",
       "      <td>7.1</td>\n",
       "      <td>0.3</td>\n",
       "      <td>2.7</td>\n",
       "      <td>0.1</td>\n",
       "      <td>0</td>\n",
       "      <td>0</td>\n",
       "    </tr>\n",
       "    <tr>\n",
       "      <th>3</th>\n",
       "      <td>25</td>\n",
       "      <td>89</td>\n",
       "      <td>13</td>\n",
       "      <td>2.5</td>\n",
       "      <td>28.6</td>\n",
       "      <td>1.3</td>\n",
       "      <td>6.9</td>\n",
       "      <td>0.0</td>\n",
       "      <td>1.7</td>\n",
       "      <td>0.0</td>\n",
       "      <td>0</td>\n",
       "      <td>0</td>\n",
       "    </tr>\n",
       "    <tr>\n",
       "      <th>4</th>\n",
       "      <td>27</td>\n",
       "      <td>77</td>\n",
       "      <td>16</td>\n",
       "      <td>0.0</td>\n",
       "      <td>64.8</td>\n",
       "      <td>3.0</td>\n",
       "      <td>14.2</td>\n",
       "      <td>1.2</td>\n",
       "      <td>3.9</td>\n",
       "      <td>0.5</td>\n",
       "      <td>0</td>\n",
       "      <td>0</td>\n",
       "    </tr>\n",
       "  </tbody>\n",
       "</table>\n",
       "</div>"
      ],
      "text/plain": [
       "   Temperature  RH  Ws  Rain  FFMC  DMC    DC  ISI  BUI  FWI  Classes  Region\n",
       "0           29  57  18   0.0  65.7  3.4   7.6  1.3  3.4  0.5        0       0\n",
       "1           29  61  13   1.3  64.4  4.1   7.6  1.0  3.9  0.4        0       0\n",
       "2           26  82  22  13.1  47.1  2.5   7.1  0.3  2.7  0.1        0       0\n",
       "3           25  89  13   2.5  28.6  1.3   6.9  0.0  1.7  0.0        0       0\n",
       "4           27  77  16   0.0  64.8  3.0  14.2  1.2  3.9  0.5        0       0"
      ]
     },
     "execution_count": 7,
     "metadata": {},
     "output_type": "execute_result"
    }
   ],
   "source": [
    "df.head()"
   ]
  },
  {
   "cell_type": "code",
   "execution_count": 8,
   "id": "5ca59bbb",
   "metadata": {},
   "outputs": [
    {
     "data": {
      "text/plain": [
       "1    137\n",
       "0    106\n",
       "Name: Classes, dtype: int64"
      ]
     },
     "execution_count": 8,
     "metadata": {},
     "output_type": "execute_result"
    }
   ],
   "source": [
    "df['Classes'].value_counts()"
   ]
  },
  {
   "cell_type": "code",
   "execution_count": 9,
   "id": "cb47dd55",
   "metadata": {},
   "outputs": [],
   "source": [
    "## Independent and Dependent features\n",
    "X = df.drop('FWI',axis=1)\n",
    "y = df['FWI']"
   ]
  },
  {
   "cell_type": "code",
   "execution_count": 10,
   "id": "ff35fd88",
   "metadata": {},
   "outputs": [
    {
     "data": {
      "text/html": [
       "<div>\n",
       "<style scoped>\n",
       "    .dataframe tbody tr th:only-of-type {\n",
       "        vertical-align: middle;\n",
       "    }\n",
       "\n",
       "    .dataframe tbody tr th {\n",
       "        vertical-align: top;\n",
       "    }\n",
       "\n",
       "    .dataframe thead th {\n",
       "        text-align: right;\n",
       "    }\n",
       "</style>\n",
       "<table border=\"1\" class=\"dataframe\">\n",
       "  <thead>\n",
       "    <tr style=\"text-align: right;\">\n",
       "      <th></th>\n",
       "      <th>Temperature</th>\n",
       "      <th>RH</th>\n",
       "      <th>Ws</th>\n",
       "      <th>Rain</th>\n",
       "      <th>FFMC</th>\n",
       "      <th>DMC</th>\n",
       "      <th>DC</th>\n",
       "      <th>ISI</th>\n",
       "      <th>BUI</th>\n",
       "      <th>Classes</th>\n",
       "      <th>Region</th>\n",
       "    </tr>\n",
       "  </thead>\n",
       "  <tbody>\n",
       "    <tr>\n",
       "      <th>0</th>\n",
       "      <td>29</td>\n",
       "      <td>57</td>\n",
       "      <td>18</td>\n",
       "      <td>0.0</td>\n",
       "      <td>65.7</td>\n",
       "      <td>3.4</td>\n",
       "      <td>7.6</td>\n",
       "      <td>1.3</td>\n",
       "      <td>3.4</td>\n",
       "      <td>0</td>\n",
       "      <td>0</td>\n",
       "    </tr>\n",
       "    <tr>\n",
       "      <th>1</th>\n",
       "      <td>29</td>\n",
       "      <td>61</td>\n",
       "      <td>13</td>\n",
       "      <td>1.3</td>\n",
       "      <td>64.4</td>\n",
       "      <td>4.1</td>\n",
       "      <td>7.6</td>\n",
       "      <td>1.0</td>\n",
       "      <td>3.9</td>\n",
       "      <td>0</td>\n",
       "      <td>0</td>\n",
       "    </tr>\n",
       "    <tr>\n",
       "      <th>2</th>\n",
       "      <td>26</td>\n",
       "      <td>82</td>\n",
       "      <td>22</td>\n",
       "      <td>13.1</td>\n",
       "      <td>47.1</td>\n",
       "      <td>2.5</td>\n",
       "      <td>7.1</td>\n",
       "      <td>0.3</td>\n",
       "      <td>2.7</td>\n",
       "      <td>0</td>\n",
       "      <td>0</td>\n",
       "    </tr>\n",
       "    <tr>\n",
       "      <th>3</th>\n",
       "      <td>25</td>\n",
       "      <td>89</td>\n",
       "      <td>13</td>\n",
       "      <td>2.5</td>\n",
       "      <td>28.6</td>\n",
       "      <td>1.3</td>\n",
       "      <td>6.9</td>\n",
       "      <td>0.0</td>\n",
       "      <td>1.7</td>\n",
       "      <td>0</td>\n",
       "      <td>0</td>\n",
       "    </tr>\n",
       "    <tr>\n",
       "      <th>4</th>\n",
       "      <td>27</td>\n",
       "      <td>77</td>\n",
       "      <td>16</td>\n",
       "      <td>0.0</td>\n",
       "      <td>64.8</td>\n",
       "      <td>3.0</td>\n",
       "      <td>14.2</td>\n",
       "      <td>1.2</td>\n",
       "      <td>3.9</td>\n",
       "      <td>0</td>\n",
       "      <td>0</td>\n",
       "    </tr>\n",
       "  </tbody>\n",
       "</table>\n",
       "</div>"
      ],
      "text/plain": [
       "   Temperature  RH  Ws  Rain  FFMC  DMC    DC  ISI  BUI  Classes  Region\n",
       "0           29  57  18   0.0  65.7  3.4   7.6  1.3  3.4        0       0\n",
       "1           29  61  13   1.3  64.4  4.1   7.6  1.0  3.9        0       0\n",
       "2           26  82  22  13.1  47.1  2.5   7.1  0.3  2.7        0       0\n",
       "3           25  89  13   2.5  28.6  1.3   6.9  0.0  1.7        0       0\n",
       "4           27  77  16   0.0  64.8  3.0  14.2  1.2  3.9        0       0"
      ]
     },
     "execution_count": 10,
     "metadata": {},
     "output_type": "execute_result"
    }
   ],
   "source": [
    "X.head()"
   ]
  },
  {
   "cell_type": "code",
   "execution_count": 11,
   "id": "6437a5b8",
   "metadata": {},
   "outputs": [
    {
     "data": {
      "text/plain": [
       "0      0.5\n",
       "1      0.4\n",
       "2      0.1\n",
       "3      0.0\n",
       "4      0.5\n",
       "      ... \n",
       "238    6.5\n",
       "239    0.0\n",
       "240    0.2\n",
       "241    0.7\n",
       "242    0.5\n",
       "Name: FWI, Length: 243, dtype: float64"
      ]
     },
     "execution_count": 11,
     "metadata": {},
     "output_type": "execute_result"
    }
   ],
   "source": [
    "y"
   ]
  },
  {
   "cell_type": "code",
   "execution_count": 12,
   "id": "28b2eb1c",
   "metadata": {},
   "outputs": [],
   "source": [
    "## Train test split\n",
    "from sklearn.model_selection import train_test_split\n",
    "X_train,X_test,y_train,y_test = train_test_split(X,y,test_size=0.2,random_state=42)"
   ]
  },
  {
   "cell_type": "code",
   "execution_count": 13,
   "id": "557a5fd4",
   "metadata": {},
   "outputs": [
    {
     "data": {
      "text/plain": [
       "((194, 11), (49, 11))"
      ]
     },
     "execution_count": 13,
     "metadata": {},
     "output_type": "execute_result"
    }
   ],
   "source": [
    "X_train.shape,X_test.shape"
   ]
  },
  {
   "cell_type": "code",
   "execution_count": 14,
   "id": "c9b92e5d",
   "metadata": {},
   "outputs": [
    {
     "data": {
      "text/html": [
       "<div>\n",
       "<style scoped>\n",
       "    .dataframe tbody tr th:only-of-type {\n",
       "        vertical-align: middle;\n",
       "    }\n",
       "\n",
       "    .dataframe tbody tr th {\n",
       "        vertical-align: top;\n",
       "    }\n",
       "\n",
       "    .dataframe thead th {\n",
       "        text-align: right;\n",
       "    }\n",
       "</style>\n",
       "<table border=\"1\" class=\"dataframe\">\n",
       "  <thead>\n",
       "    <tr style=\"text-align: right;\">\n",
       "      <th></th>\n",
       "      <th>Temperature</th>\n",
       "      <th>RH</th>\n",
       "      <th>Ws</th>\n",
       "      <th>Rain</th>\n",
       "      <th>FFMC</th>\n",
       "      <th>DMC</th>\n",
       "      <th>DC</th>\n",
       "      <th>ISI</th>\n",
       "      <th>BUI</th>\n",
       "      <th>Classes</th>\n",
       "      <th>Region</th>\n",
       "    </tr>\n",
       "  </thead>\n",
       "  <tbody>\n",
       "    <tr>\n",
       "      <th>Temperature</th>\n",
       "      <td>1.000000</td>\n",
       "      <td>-0.653725</td>\n",
       "      <td>-0.308149</td>\n",
       "      <td>-0.313112</td>\n",
       "      <td>0.690285</td>\n",
       "      <td>0.468911</td>\n",
       "      <td>0.372163</td>\n",
       "      <td>0.613138</td>\n",
       "      <td>0.446280</td>\n",
       "      <td>0.539642</td>\n",
       "      <td>0.258344</td>\n",
       "    </tr>\n",
       "    <tr>\n",
       "      <th>RH</th>\n",
       "      <td>-0.653725</td>\n",
       "      <td>1.000000</td>\n",
       "      <td>0.211645</td>\n",
       "      <td>0.239441</td>\n",
       "      <td>-0.649239</td>\n",
       "      <td>-0.401836</td>\n",
       "      <td>-0.220945</td>\n",
       "      <td>-0.714640</td>\n",
       "      <td>-0.346511</td>\n",
       "      <td>-0.454926</td>\n",
       "      <td>-0.408441</td>\n",
       "    </tr>\n",
       "    <tr>\n",
       "      <th>Ws</th>\n",
       "      <td>-0.308149</td>\n",
       "      <td>0.211645</td>\n",
       "      <td>1.000000</td>\n",
       "      <td>0.235922</td>\n",
       "      <td>-0.176596</td>\n",
       "      <td>0.004712</td>\n",
       "      <td>0.092866</td>\n",
       "      <td>-0.002300</td>\n",
       "      <td>0.037465</td>\n",
       "      <td>-0.075322</td>\n",
       "      <td>-0.202357</td>\n",
       "    </tr>\n",
       "    <tr>\n",
       "      <th>Rain</th>\n",
       "      <td>-0.313112</td>\n",
       "      <td>0.239441</td>\n",
       "      <td>0.235922</td>\n",
       "      <td>1.000000</td>\n",
       "      <td>-0.547864</td>\n",
       "      <td>-0.288538</td>\n",
       "      <td>-0.301110</td>\n",
       "      <td>-0.349903</td>\n",
       "      <td>-0.299179</td>\n",
       "      <td>-0.378585</td>\n",
       "      <td>-0.057382</td>\n",
       "    </tr>\n",
       "    <tr>\n",
       "      <th>FFMC</th>\n",
       "      <td>0.690285</td>\n",
       "      <td>-0.649239</td>\n",
       "      <td>-0.176596</td>\n",
       "      <td>-0.547864</td>\n",
       "      <td>1.000000</td>\n",
       "      <td>0.611978</td>\n",
       "      <td>0.519513</td>\n",
       "      <td>0.751819</td>\n",
       "      <td>0.598248</td>\n",
       "      <td>0.786012</td>\n",
       "      <td>0.254770</td>\n",
       "    </tr>\n",
       "    <tr>\n",
       "      <th>DMC</th>\n",
       "      <td>0.468911</td>\n",
       "      <td>-0.401836</td>\n",
       "      <td>0.004712</td>\n",
       "      <td>-0.288538</td>\n",
       "      <td>0.611978</td>\n",
       "      <td>1.000000</td>\n",
       "      <td>0.876122</td>\n",
       "      <td>0.679049</td>\n",
       "      <td>0.983891</td>\n",
       "      <td>0.606775</td>\n",
       "      <td>0.188980</td>\n",
       "    </tr>\n",
       "    <tr>\n",
       "      <th>DC</th>\n",
       "      <td>0.372163</td>\n",
       "      <td>-0.220945</td>\n",
       "      <td>0.092866</td>\n",
       "      <td>-0.301110</td>\n",
       "      <td>0.519513</td>\n",
       "      <td>0.876122</td>\n",
       "      <td>1.000000</td>\n",
       "      <td>0.512934</td>\n",
       "      <td>0.946181</td>\n",
       "      <td>0.538893</td>\n",
       "      <td>-0.083038</td>\n",
       "    </tr>\n",
       "    <tr>\n",
       "      <th>ISI</th>\n",
       "      <td>0.613138</td>\n",
       "      <td>-0.714640</td>\n",
       "      <td>-0.002300</td>\n",
       "      <td>-0.349903</td>\n",
       "      <td>0.751819</td>\n",
       "      <td>0.679049</td>\n",
       "      <td>0.512934</td>\n",
       "      <td>1.000000</td>\n",
       "      <td>0.637669</td>\n",
       "      <td>0.740072</td>\n",
       "      <td>0.291889</td>\n",
       "    </tr>\n",
       "    <tr>\n",
       "      <th>BUI</th>\n",
       "      <td>0.446280</td>\n",
       "      <td>-0.346511</td>\n",
       "      <td>0.037465</td>\n",
       "      <td>-0.299179</td>\n",
       "      <td>0.598248</td>\n",
       "      <td>0.983891</td>\n",
       "      <td>0.946181</td>\n",
       "      <td>0.637669</td>\n",
       "      <td>1.000000</td>\n",
       "      <td>0.602102</td>\n",
       "      <td>0.090326</td>\n",
       "    </tr>\n",
       "    <tr>\n",
       "      <th>Classes</th>\n",
       "      <td>0.539642</td>\n",
       "      <td>-0.454926</td>\n",
       "      <td>-0.075322</td>\n",
       "      <td>-0.378585</td>\n",
       "      <td>0.786012</td>\n",
       "      <td>0.606775</td>\n",
       "      <td>0.538893</td>\n",
       "      <td>0.740072</td>\n",
       "      <td>0.602102</td>\n",
       "      <td>1.000000</td>\n",
       "      <td>0.196276</td>\n",
       "    </tr>\n",
       "    <tr>\n",
       "      <th>Region</th>\n",
       "      <td>0.258344</td>\n",
       "      <td>-0.408441</td>\n",
       "      <td>-0.202357</td>\n",
       "      <td>-0.057382</td>\n",
       "      <td>0.254770</td>\n",
       "      <td>0.188980</td>\n",
       "      <td>-0.083038</td>\n",
       "      <td>0.291889</td>\n",
       "      <td>0.090326</td>\n",
       "      <td>0.196276</td>\n",
       "      <td>1.000000</td>\n",
       "    </tr>\n",
       "  </tbody>\n",
       "</table>\n",
       "</div>"
      ],
      "text/plain": [
       "             Temperature        RH        Ws      Rain      FFMC       DMC  \\\n",
       "Temperature     1.000000 -0.653725 -0.308149 -0.313112  0.690285  0.468911   \n",
       "RH             -0.653725  1.000000  0.211645  0.239441 -0.649239 -0.401836   \n",
       "Ws             -0.308149  0.211645  1.000000  0.235922 -0.176596  0.004712   \n",
       "Rain           -0.313112  0.239441  0.235922  1.000000 -0.547864 -0.288538   \n",
       "FFMC            0.690285 -0.649239 -0.176596 -0.547864  1.000000  0.611978   \n",
       "DMC             0.468911 -0.401836  0.004712 -0.288538  0.611978  1.000000   \n",
       "DC              0.372163 -0.220945  0.092866 -0.301110  0.519513  0.876122   \n",
       "ISI             0.613138 -0.714640 -0.002300 -0.349903  0.751819  0.679049   \n",
       "BUI             0.446280 -0.346511  0.037465 -0.299179  0.598248  0.983891   \n",
       "Classes         0.539642 -0.454926 -0.075322 -0.378585  0.786012  0.606775   \n",
       "Region          0.258344 -0.408441 -0.202357 -0.057382  0.254770  0.188980   \n",
       "\n",
       "                   DC       ISI       BUI   Classes    Region  \n",
       "Temperature  0.372163  0.613138  0.446280  0.539642  0.258344  \n",
       "RH          -0.220945 -0.714640 -0.346511 -0.454926 -0.408441  \n",
       "Ws           0.092866 -0.002300  0.037465 -0.075322 -0.202357  \n",
       "Rain        -0.301110 -0.349903 -0.299179 -0.378585 -0.057382  \n",
       "FFMC         0.519513  0.751819  0.598248  0.786012  0.254770  \n",
       "DMC          0.876122  0.679049  0.983891  0.606775  0.188980  \n",
       "DC           1.000000  0.512934  0.946181  0.538893 -0.083038  \n",
       "ISI          0.512934  1.000000  0.637669  0.740072  0.291889  \n",
       "BUI          0.946181  0.637669  1.000000  0.602102  0.090326  \n",
       "Classes      0.538893  0.740072  0.602102  1.000000  0.196276  \n",
       "Region      -0.083038  0.291889  0.090326  0.196276  1.000000  "
      ]
     },
     "execution_count": 14,
     "metadata": {},
     "output_type": "execute_result"
    }
   ],
   "source": [
    "## Featur selection based on correlation\n",
    "X_train.corr()"
   ]
  },
  {
   "cell_type": "code",
   "execution_count": 15,
   "id": "7208b559",
   "metadata": {},
   "outputs": [
    {
     "data": {
      "text/plain": [
       "<Axes: >"
      ]
     },
     "execution_count": 15,
     "metadata": {},
     "output_type": "execute_result"
    },
    {
     "data": {
      "image/png": "[encoded data removed]",
      "text/plain": [
       "<Figure size 1200x1000 with 2 Axes>"
      ]
     },
     "metadata": {},
     "output_type": "display_data"
    }
   ],
   "source": [
    "## Check for multicollinearity\n",
    "plt.figure(figsize=(12,10))\n",
    "corr = X_train.corr()\n",
    "sns.heatmap(corr,annot=True)"
   ]
  },
  {
   "cell_type": "code",
   "execution_count": 16,
   "id": "4a3453b9",
   "metadata": {},
   "outputs": [],
   "source": [
    "def correlation(dataset, threshold):\n",
    "    col_corr = set()  # Set of all the names of correlated columns\n",
    "    corr_matrix = dataset.corr()\n",
    "    for i in range(len(corr_matrix.columns)):\n",
    "        for j in range(i):\n",
    "            if abs(corr_matrix.iloc[i, j]) > threshold:\n",
    "                colname = corr_matrix.columns[i]\n",
    "                col_corr.add(colname)\n",
    "    return col_corr"
   ]
  },
  {
   "cell_type": "code",
   "execution_count": 17,
   "id": "1e364423",
   "metadata": {},
   "outputs": [
    {
     "data": {
      "text/plain": [
       "{'BUI', 'DC'}"
      ]
     },
     "execution_count": 17,
     "metadata": {},
     "output_type": "execute_result"
    }
   ],
   "source": [
    "## threshold ---> can be selected  by Domain Expert\n",
    "correlation(X_train,0.85)"
   ]
  },
  {
   "cell_type": "code",
   "execution_count": 18,
   "id": "e5ad5406",
   "metadata": {},
   "outputs": [],
   "source": [
    "corr_features = correlation(X_train,0.85)"
   ]
  },
  {
   "cell_type": "code",
   "execution_count": 19,
   "id": "307f1856",
   "metadata": {},
   "outputs": [
    {
     "data": {
      "text/plain": [
       "((194, 9), (49, 9))"
      ]
     },
     "execution_count": 19,
     "metadata": {},
     "output_type": "execute_result"
    }
   ],
   "source": [
    "## drop features when correlation is more than 0.85\n",
    "X_train.drop(labels=corr_features, axis=1, inplace=True)\n",
    "X_test.drop(labels=corr_features, axis=1, inplace=True)\n",
    "X_train.shape, X_test.shape"
   ]
  },
  {
   "cell_type": "markdown",
   "id": "e0704fef",
   "metadata": {},
   "source": [
    "# Feature Scaling or Standardization"
   ]
  },
  {
   "cell_type": "code",
   "execution_count": 20,
   "id": "549964c4",
   "metadata": {},
   "outputs": [],
   "source": [
    "from sklearn.preprocessing import StandardScaler\n",
    "scaler= StandardScaler()"
   ]
  },
  {
   "cell_type": "code",
   "execution_count": 21,
   "id": "83920a99",
   "metadata": {},
   "outputs": [],
   "source": [
    "X_train_scaled = scaler.fit_transform(X_train)\n",
    "X_test_scaled = scaler.transform(X_test)"
   ]
  },
  {
   "cell_type": "code",
   "execution_count": 22,
   "id": "f313a1a6",
   "metadata": {},
   "outputs": [
    {
     "data": {
      "text/plain": [
       "array([[-0.87563202,  0.21321832,  1.28577038, ..., -0.79648833,\n",
       "        -1.14434427, -1.01036297],\n",
       "       [ 0.22209084, -1.65484925,  0.14504117, ...,  1.88757476,\n",
       "         0.8738629 ,  0.98974332],\n",
       "       [ 1.5942444 , -1.25454906, -0.99568804, ..., -0.19488798,\n",
       "         0.8738629 ,  0.98974332],\n",
       "       ...,\n",
       "       [-1.97335488,  0.947102  ,  0.52528424, ..., -1.0972885 ,\n",
       "        -1.14434427, -1.01036297],\n",
       "       [ 0.49652155, -0.18708188,  0.14504117, ...,  0.56868169,\n",
       "         0.8738629 ,  0.98974332],\n",
       "       [-0.60120131,  1.0138187 ,  2.04625653, ..., -0.88904223,\n",
       "        -1.14434427, -1.01036297]])"
      ]
     },
     "execution_count": 22,
     "metadata": {},
     "output_type": "execute_result"
    }
   ],
   "source": [
    "X_train_scaled"
   ]
  },
  {
   "cell_type": "markdown",
   "id": "85f65afa",
   "metadata": {},
   "source": [
    "# Box plots to understand the effects of standard scaler"
   ]
  },
  {
   "cell_type": "code",
   "execution_count": 23,
   "id": "981a0b54",
   "metadata": {},
   "outputs": [
    {
     "name": "stderr",
     "output_type": "stream",
     "text": [
      "C:\\Users\\jeeve\\AppData\\Local\\Temp\\ipykernel_29912\\3012780231.py:2: MatplotlibDeprecationWarning: Auto-removal of overlapping axes is deprecated since 3.6 and will be removed two minor releases later; explicitly call ax.remove() as needed.\n",
      "  plt.subplot(1,2,1)\n"
     ]
    },
    {
     "data": {
      "text/plain": [
       "Text(0.5, 1.0, 'After Standardization')"
      ]
     },
     "execution_count": 23,
     "metadata": {},
     "output_type": "execute_result"
    },
    {
     "data": {
      "image/png": "[encoded data removed]",
      "text/plain": [
       "<Figure size 1500x500 with 2 Axes>"
      ]
     },
     "metadata": {},
     "output_type": "display_data"
    }
   ],
   "source": [
    "plt.subplots(figsize=(15, 5))\n",
    "plt.subplot(1,2,1)\n",
    "sns.boxplot(data=X_train)\n",
    "plt.title('Before Standardization')\n",
    "plt.subplot(1,2,2)\n",
    "sns.boxplot(data=X_train_scaled)\n",
    "plt.title('After Standardization')"
   ]
  },
  {
   "cell_type": "code",
   "execution_count": 24,
   "id": "bdb04d7e",
   "metadata": {},
   "outputs": [
    {
     "name": "stdout",
     "output_type": "stream",
     "text": [
      "Before Standardization:\n",
      "Temperature    32.190722\n",
      "RH             61.804124\n",
      "Ws             15.618557\n",
      "Rain            0.791753\n",
      "FFMC           78.098454\n",
      "DMC            15.205155\n",
      "ISI             4.942268\n",
      "Classes         0.567010\n",
      "Region          0.505155\n",
      "dtype: float64\n",
      "Temperature     3.653335\n",
      "RH             15.027532\n",
      "Ws              2.636701\n",
      "Rain            2.088095\n",
      "FFMC           14.121088\n",
      "DMC            13.088518\n",
      "ISI             4.332988\n",
      "Classes         0.496771\n",
      "Region          0.501267\n",
      "dtype: float64\n",
      "\n",
      "After Standardization:\n",
      "[-3.02163792e-16  1.92286050e-16  1.67105734e-16  5.37943115e-17\n",
      " -1.32768939e-16 -7.32518284e-17 -4.92160722e-17  5.03606320e-17\n",
      "  4.57823928e-18]\n",
      "[1. 1. 1. 1. 1. 1. 1. 1. 1.]\n"
     ]
    }
   ],
   "source": [
    "print(\"Before Standardization:\")\n",
    "print(X_train.mean(axis=0))\n",
    "print(X_train.std(axis=0))\n",
    "\n",
    "print(\"\\nAfter Standardization:\")\n",
    "print(X_train_scaled.mean(axis=0))\n",
    "print(X_train_scaled.std(axis=0))"
   ]
  },
  {
   "cell_type": "markdown",
   "id": "29f11ab7",
   "metadata": {},
   "source": [
    "# Linear Regression Model"
   ]
  },
  {
   "cell_type": "code",
   "execution_count": 25,
   "id": "88219633",
   "metadata": {},
   "outputs": [
    {
     "name": "stdout",
     "output_type": "stream",
     "text": [
      "Mean Absolute Error 0.504997869416567\n",
      "R2 Score 0.9805895859259883\n"
     ]
    }
   ],
   "source": [
    "from sklearn.linear_model import LinearRegression\n",
    "from sklearn.metrics import mean_absolute_error\n",
    "from sklearn.metrics import r2_score\n",
    "linreg = LinearRegression()\n",
    "linreg.fit(X_train_scaled,y_train)\n",
    "y_pred = linreg.predict(X_test_scaled)\n",
    "mae = mean_absolute_error(y_test,y_pred)\n",
    "score = r2_score(y_test,y_pred)\n",
    "print(\"Mean Absolute Error\",mae)\n",
    "print(\"R2 Score\",score)"
   ]
  },
  {
   "cell_type": "code",
   "execution_count": 26,
   "id": "7667325c",
   "metadata": {},
   "outputs": [
    {
     "data": {
      "text/plain": [
       "<matplotlib.collections.PathCollection at 0x21e66a50eb0>"
      ]
     },
     "execution_count": 26,
     "metadata": {},
     "output_type": "execute_result"
    },
    {
     "data": {
      "image/png": "[encoded data removed]",
      "text/plain": [
       "<Figure size 640x480 with 1 Axes>"
      ]
     },
     "metadata": {},
     "output_type": "display_data"
    }
   ],
   "source": [
    "plt.scatter(y_test,y_pred)"
   ]
  },
  {
   "cell_type": "code",
   "execution_count": 27,
   "id": "0e1a6f94",
   "metadata": {},
   "outputs": [],
   "source": [
    "## Actuslly it a good model but in linear regression there is a\n",
    "## chance of getting overfitting the model \n",
    "## to overcome we use Lasso and ridge"
   ]
  },
  {
   "cell_type": "markdown",
   "id": "d2fcf1ff",
   "metadata": {},
   "source": [
    "# Lasso Regression"
   ]
  },
  {
   "cell_type": "code",
   "execution_count": 28,
   "id": "aed3154e",
   "metadata": {},
   "outputs": [
    {
     "name": "stdout",
     "output_type": "stream",
     "text": [
      "Mean Absolute Error 1.0093958923873403\n",
      "R2 Score 0.9430507350726564\n"
     ]
    },
    {
     "data": {
      "text/plain": [
       "<matplotlib.collections.PathCollection at 0x21e6882bfd0>"
      ]
     },
     "execution_count": 28,
     "metadata": {},
     "output_type": "execute_result"
    },
    {
     "data": {
      "image/png": "[encoded data removed]",
      "text/plain": [
       "<Figure size 640x480 with 1 Axes>"
      ]
     },
     "metadata": {},
     "output_type": "display_data"
    }
   ],
   "source": [
    "from sklearn.linear_model import Lasso\n",
    "from sklearn.metrics import mean_absolute_error\n",
    "from sklearn.metrics import r2_score\n",
    "lasso = Lasso()\n",
    "lasso.fit(X_train_scaled,y_train)\n",
    "y_pred = lasso.predict(X_test_scaled)\n",
    "mae = mean_absolute_error(y_test,y_pred)\n",
    "score = r2_score(y_test,y_pred)\n",
    "print(\"Mean Absolute Error\",mae)\n",
    "print(\"R2 Score\",score)\n",
    "plt.scatter(y_test,y_pred)"
   ]
  },
  {
   "cell_type": "code",
   "execution_count": 29,
   "id": "01b68726",
   "metadata": {},
   "outputs": [],
   "source": [
    "## We can see reducing the r2 score from 98 to 94 reducing the overfitting"
   ]
  },
  {
   "cell_type": "markdown",
   "id": "cc07259f",
   "metadata": {},
   "source": [
    "# Cross Validation Lasso"
   ]
  },
  {
   "cell_type": "code",
   "execution_count": 30,
   "id": "1210dee4",
   "metadata": {},
   "outputs": [
    {
     "data": {
      "text/html": [
       "<style>#sk-container-id-1 {color: black;background-color: white;}#sk-container-id-1 pre{padding: 0;}#sk-container-id-1 div.sk-toggleable {background-color: white;}#sk-container-id-1 label.sk-toggleable__label {cursor: pointer;display: block;width: 100%;margin-bottom: 0;padding: 0.3em;box-sizing: border-box;text-align: center;}#sk-container-id-1 label.sk-toggleable__label-arrow:before {content: \"▸\";float: left;margin-right: 0.25em;color: #696969;}#sk-container-id-1 label.sk-toggleable__label-arrow:hover:before {color: black;}#sk-container-id-1 div.sk-estimator:hover label.sk-toggleable__label-arrow:before {color: black;}#sk-container-id-1 div.sk-toggleable__content {max-height: 0;max-width: 0;overflow: hidden;text-align: left;background-color: #f0f8ff;}#sk-container-id-1 div.sk-toggleable__content pre {margin: 0.2em;color: black;border-radius: 0.25em;background-color: #f0f8ff;}#sk-container-id-1 input.sk-toggleable__control:checked~div.sk-toggleable__content {max-height: 200px;max-width: 100%;overflow: auto;}#sk-container-id-1 input.sk-toggleable__control:checked~label.sk-toggleable__label-arrow:before {content: \"▾\";}#sk-container-id-1 div.sk-estimator input.sk-toggleable__control:checked~label.sk-toggleable__label {background-color: #d4ebff;}#sk-container-id-1 div.sk-label input.sk-toggleable__control:checked~label.sk-toggleable__label {background-color: #d4ebff;}#sk-container-id-1 input.sk-hidden--visually {border: 0;clip: rect(1px 1px 1px 1px);clip: rect(1px, 1px, 1px, 1px);height: 1px;margin: -1px;overflow: hidden;padding: 0;position: absolute;width: 1px;}#sk-container-id-1 div.sk-estimator {font-family: monospace;background-color: #f0f8ff;border: 1px dotted black;border-radius: 0.25em;box-sizing: border-box;margin-bottom: 0.5em;}#sk-container-id-1 div.sk-estimator:hover {background-color: #d4ebff;}#sk-container-id-1 div.sk-parallel-item::after {content: \"\";width: 100%;border-bottom: 1px solid gray;flex-grow: 1;}#sk-container-id-1 div.sk-label:hover label.sk-toggleable__label {background-color: #d4ebff;}#sk-container-id-1 div.sk-serial::before {content: \"\";position: absolute;border-left: 1px solid gray;box-sizing: border-box;top: 0;bottom: 0;left: 50%;z-index: 0;}#sk-container-id-1 div.sk-serial {display: flex;flex-direction: column;align-items: center;background-color: white;padding-right: 0.2em;padding-left: 0.2em;position: relative;}#sk-container-id-1 div.sk-item {position: relative;z-index: 1;}#sk-container-id-1 div.sk-parallel {display: flex;align-items: stretch;justify-content: center;background-color: white;position: relative;}#sk-container-id-1 div.sk-item::before, #sk-container-id-1 div.sk-parallel-item::before {content: \"\";position: absolute;border-left: 1px solid gray;box-sizing: border-box;top: 0;bottom: 0;left: 50%;z-index: -1;}#sk-container-id-1 div.sk-parallel-item {display: flex;flex-direction: column;z-index: 1;position: relative;background-color: white;}#sk-container-id-1 div.sk-parallel-item:first-child::after {align-self: flex-end;width: 50%;}#sk-container-id-1 div.sk-parallel-item:last-child::after {align-self: flex-start;width: 50%;}#sk-container-id-1 div.sk-parallel-item:only-child::after {width: 0;}#sk-container-id-1 div.sk-dashed-wrapped {border: 1px dashed gray;margin: 0 0.4em 0.5em 0.4em;box-sizing: border-box;padding-bottom: 0.4em;background-color: white;}#sk-container-id-1 div.sk-label label {font-family: monospace;font-weight: bold;display: inline-block;line-height: 1.2em;}#sk-container-id-1 div.sk-label-container {text-align: center;}#sk-container-id-1 div.sk-container {/* jupyter's `normalize.less` sets `[hidden] { display: none; }` but bootstrap.min.css set `[hidden] { display: none !important; }` so we also need the `!important` here to be able to override the default hidden behavior on the sphinx rendered scikit-learn.org. See: https://github.com/scikit-learn/scikit-learn/issues/21755 */display: inline-block !important;position: relative;}#sk-container-id-1 div.sk-text-repr-fallback {display: none;}</style><div id=\"sk-container-id-1\" class=\"sk-top-container\"><div class=\"sk-text-repr-fallback\"><pre>LassoCV(cv=5)</pre><b>In a Jupyter environment, please rerun this cell to show the HTML representation or trust the notebook. <br />On GitHub, the HTML representation is unable to render, please try loading this page with nbviewer.org.</b></div><div class=\"sk-container\" hidden><div class=\"sk-item\"><div class=\"sk-estimator sk-toggleable\"><input class=\"sk-toggleable__control sk-hidden--visually\" id=\"sk-estimator-id-1\" type=\"checkbox\" checked><label for=\"sk-estimator-id-1\" class=\"sk-toggleable__label sk-toggleable__label-arrow\">LassoCV</label><div class=\"sk-toggleable__content\"><pre>LassoCV(cv=5)</pre></div></div></div></div></div>"
      ],
      "text/plain": [
       "LassoCV(cv=5)"
      ]
     },
     "execution_count": 30,
     "metadata": {},
     "output_type": "execute_result"
    }
   ],
   "source": [
    "from sklearn.linear_model import LassoCV\n",
    "lassocv = LassoCV(cv=5)\n",
    "lassocv.fit(X_train_scaled,y_train)"
   ]
  },
  {
   "cell_type": "code",
   "execution_count": 31,
   "id": "11d463c2",
   "metadata": {},
   "outputs": [
    {
     "data": {
      "text/plain": [
       "0.04391080246587263"
      ]
     },
     "execution_count": 31,
     "metadata": {},
     "output_type": "execute_result"
    }
   ],
   "source": [
    "lassocv.alpha_"
   ]
  },
  {
   "cell_type": "code",
   "execution_count": 32,
   "id": "2bb51a3d",
   "metadata": {},
   "outputs": [
    {
     "data": {
      "text/plain": [
       "array([ 8.18663266,  7.70019213, -0.2903297 ,  4.63474259,  6.74887378,\n",
       "        1.69185044,  2.18294469,  7.60463301,  1.94706338,  3.35359404,\n",
       "        0.57397807,  9.87337629,  9.35427849, 17.02676621, 18.37194357,\n",
       "        1.5304227 ,  1.5960953 , -0.52728438,  7.28818222,  3.05013272,\n",
       "        1.90263103,  0.19405617,  6.49047095,  0.15979868, 21.13853803,\n",
       "        5.07328595,  5.85087005,  9.77439514, -0.62816931,  9.93571457,\n",
       "        6.72518268, -0.36716153, 10.34290458, 14.4714937 ,  1.65446616,\n",
       "        0.7459854 ,  2.01575197,  5.92456507, -0.59756537, -0.52186736,\n",
       "        6.46663487,  2.01373643,  8.46819727, -0.73832638, 15.45949352,\n",
       "        8.33848004,  8.45866066,  1.4244129 , 13.0465774 ])"
      ]
     },
     "execution_count": 32,
     "metadata": {},
     "output_type": "execute_result"
    }
   ],
   "source": [
    "lassocv.predict(X_test_scaled)"
   ]
  },
  {
   "cell_type": "code",
   "execution_count": 33,
   "id": "3e63d545",
   "metadata": {},
   "outputs": [
    {
     "data": {
      "text/plain": [
       "array([7.1563667 , 6.67405153, 6.2242428 , 5.80474966, 5.41352896,\n",
       "       5.04867523, 4.70841142, 4.39108025, 4.09513613, 3.81913766,\n",
       "       3.56174057, 3.32169117, 3.09782031, 2.88903759, 2.69432612,\n",
       "       2.51273756, 2.34338746, 2.18545099, 2.0381589 , 1.90079382,\n",
       "       1.77268667, 1.65321353, 1.54179247, 1.43788081, 1.34097246,\n",
       "       1.2505954 , 1.16630946, 1.08770411, 1.01439649, 0.94602956,\n",
       "       0.88227033, 0.82280827, 0.76735374, 0.71563667, 0.66740515,\n",
       "       0.62242428, 0.58047497, 0.5413529 , 0.50486752, 0.47084114,\n",
       "       0.43910802, 0.40951361, 0.38191377, 0.35617406, 0.33216912,\n",
       "       0.30978203, 0.28890376, 0.26943261, 0.25127376, 0.23433875,\n",
       "       0.2185451 , 0.20381589, 0.19007938, 0.17726867, 0.16532135,\n",
       "       0.15417925, 0.14378808, 0.13409725, 0.12505954, 0.11663095,\n",
       "       0.10877041, 0.10143965, 0.09460296, 0.08822703, 0.08228083,\n",
       "       0.07673537, 0.07156367, 0.06674052, 0.06224243, 0.0580475 ,\n",
       "       0.05413529, 0.05048675, 0.04708411, 0.0439108 , 0.04095136,\n",
       "       0.03819138, 0.03561741, 0.03321691, 0.0309782 , 0.02889038,\n",
       "       0.02694326, 0.02512738, 0.02343387, 0.02185451, 0.02038159,\n",
       "       0.01900794, 0.01772687, 0.01653214, 0.01541792, 0.01437881,\n",
       "       0.01340972, 0.01250595, 0.01166309, 0.01087704, 0.01014396,\n",
       "       0.0094603 , 0.0088227 , 0.00822808, 0.00767354, 0.00715637])"
      ]
     },
     "execution_count": 33,
     "metadata": {},
     "output_type": "execute_result"
    }
   ],
   "source": [
    "lassocv.alphas_"
   ]
  },
  {
   "cell_type": "code",
   "execution_count": 34,
   "id": "8f11b7e8",
   "metadata": {},
   "outputs": [
    {
     "data": {
      "text/plain": [
       "array([[68.58934997, 64.28650232, 49.25415197, 79.11474083, 38.68688171],\n",
       "       [63.2664675 , 58.77362304, 43.20292636, 77.07183352, 34.66910628],\n",
       "       [56.87389457, 51.79652473, 37.15764773, 69.4806422 , 31.16497557],\n",
       "       [51.2737596 , 45.69461734, 31.98560721, 62.80993539, 27.46286399],\n",
       "       [45.36816855, 40.35928545, 27.56726322, 56.94442062, 23.75447628],\n",
       "       [39.875005  , 35.69250404, 23.79907917, 50.31847875, 20.54655878],\n",
       "       [35.0794232 , 31.60885664, 20.59132915, 44.35263414, 17.77349727],\n",
       "       [30.89154006, 28.0342798 , 17.86626498, 39.14265375, 15.37720198],\n",
       "       [27.23334321, 24.90389594, 15.55674604, 34.59116894, 13.30754905],\n",
       "       [24.03652419, 22.16129069, 13.60451947, 30.61376519, 11.52101422],\n",
       "       [21.24273995, 19.75730052, 11.95924131, 27.13693185,  9.97950732],\n",
       "       [18.80004176, 17.64896267, 10.57738151, 24.09623192,  8.65087048],\n",
       "       [16.66356323, 15.79916526,  9.42117661, 21.43679316,  7.50627555],\n",
       "       [14.79422393, 14.17520895,  8.45841516, 19.10956209,  6.52101014],\n",
       "       [13.15797947, 12.74869509,  7.66089777, 17.07222411,  5.67363097],\n",
       "       [11.72516916, 11.49485553,  7.00441581, 15.2879121 ,  4.94553428],\n",
       "       [10.46961937, 10.39208422,  6.46809493, 13.72450079,  4.32058286],\n",
       "       [ 9.36950665,  9.42144617,  6.03394851, 12.35399324,  3.78478187],\n",
       "       [ 8.40482683,  8.56667178,  5.68649007, 11.15167743,  3.32584734],\n",
       "       [ 7.55846877,  7.81329966,  5.41214499, 10.0969438 ,  2.93358775],\n",
       "       [ 6.81551487,  7.1487914 ,  5.19997693,  9.1708854 ,  2.59870635],\n",
       "       [ 6.16295727,  6.56219671,  5.03989352,  8.35732826,  2.31330556],\n",
       "       [ 5.58945138,  6.04394954,  4.92346234,  7.64216617,  2.07054541],\n",
       "       [ 5.08510126,  5.58569057,  4.84346091,  7.01309336,  1.86450346],\n",
       "       [ 4.64127296,  5.1801127 ,  4.79371108,  6.45937254,  1.69005351],\n",
       "       [ 4.25020833,  4.82082645,  4.76893597,  5.97163286,  1.54276022],\n",
       "       [ 3.90580417,  4.50222793,  4.76463613,  5.54151515,  1.41875336],\n",
       "       [ 3.60206612,  4.21946296,  4.77698214,  5.16226328,  1.31479949],\n",
       "       [ 3.33397925,  3.96822714,  4.80237929,  4.8274281 ,  1.22798205],\n",
       "       [ 3.09716354,  3.744771  ,  4.83877425,  4.5315593 ,  1.15582648],\n",
       "       [ 2.88779172,  3.54580941,  4.88347973,  4.26989463,  1.09619701],\n",
       "       [ 2.70251844,  3.36846271,  4.93453222,  4.03827098,  1.0472513 ],\n",
       "       [ 2.53841866,  3.21020533,  4.99028479,  3.83304785,  1.00740119],\n",
       "       [ 2.3929339 ,  3.06882115,  5.04936031,  3.65104053,  0.97527862],\n",
       "       [ 2.2638255 ,  2.94236448,  5.1106126 ,  3.48946202,  0.94970608],\n",
       "       [ 2.14899254,  2.82912607,  5.17309282,  3.34587237,  0.92967098],\n",
       "       [ 2.0470166 ,  2.72763981,  5.23602057,  3.21808956,  0.91437031],\n",
       "       [ 1.95623718,  2.63651264,  5.29833472,  3.10434286,  0.90292622],\n",
       "       [ 1.8753355 ,  2.55461571,  5.36039029,  3.00293221,  0.89476111],\n",
       "       [ 1.80315615,  2.48092494,  5.42133331,  2.91241755,  0.88932803],\n",
       "       [ 1.73868537,  2.41453731,  5.48083506,  2.83213217,  0.88615868],\n",
       "       [ 1.68103321,  2.35465627,  5.53864537,  2.76931465,  0.88485333],\n",
       "       [ 1.62941794,  2.3005786 ,  5.59457623,  2.71266313,  0.88507139],\n",
       "       [ 1.58315248,  2.25168293,  5.64849161,  2.66234257,  0.88652322],\n",
       "       [ 1.54163255,  2.20741978,  5.70029887,  2.61732479,  0.88896306],\n",
       "       [ 1.50432636,  2.16130149,  5.74278112,  2.57700404,  0.89218288],\n",
       "       [ 1.46767247,  2.11781865,  5.78086079,  2.54084724,  0.89613137],\n",
       "       [ 1.41895624,  2.07900829,  5.81870721,  2.50800112,  0.89635127],\n",
       "       [ 1.37588882,  2.04433921,  5.85628479,  2.47884351,  0.87935792],\n",
       "       [ 1.3377029 ,  2.0134044 ,  5.89286634,  2.45260817,  0.8650123 ],\n",
       "       [ 1.30396157,  1.98563934,  5.92915373,  2.42896819,  0.8529449 ],\n",
       "       [ 1.27405102,  1.96074856,  5.96450254,  2.38318422,  0.8429698 ],\n",
       "       [ 1.24750975,  1.93840825,  5.99877568,  2.33368421,  0.83638736],\n",
       "       [ 1.2239344 ,  1.91833283,  6.04611896,  2.28858962,  0.83391222],\n",
       "       [ 1.20297175,  1.90027077,  6.10163118,  2.24745692,  0.83239493],\n",
       "       [ 1.18431235,  1.88400036,  6.15698159,  2.21029165,  0.83165411],\n",
       "       [ 1.16768501,  1.86932604,  6.21148032,  2.17650894,  0.83154944],\n",
       "       [ 1.15311303,  1.85607519,  6.26481075,  2.14575327,  0.83196169],\n",
       "       [ 1.14077643,  1.84409526,  6.31672538,  2.11767584,  0.83278962],\n",
       "       [ 1.12819949,  1.81874428,  6.36703586,  2.09377612,  0.82197653],\n",
       "       [ 1.09424293,  1.78945747,  6.41560354,  2.05324593,  0.80094518],\n",
       "       [ 1.06409088,  1.76328324,  6.46233122,  2.01678516,  0.77910031],\n",
       "       [ 1.03702116,  1.73948714,  6.50648012,  1.98427203,  0.7611449 ],\n",
       "       [ 1.01316325,  1.71796101,  6.54940952,  1.95522788,  0.74562876],\n",
       "       [ 0.99189031,  1.69846397,  6.59038828,  1.92889827,  0.73233605],\n",
       "       [ 0.97290529,  1.67408285,  6.62942597,  1.90567127,  0.72092525],\n",
       "       [ 0.95594266,  1.65093348,  6.66654654,  1.8848476 ,  0.71113639],\n",
       "       [ 0.94076936,  1.62993404,  6.70451616,  1.86615812,  0.7027492 ],\n",
       "       [ 0.92718064,  1.61112268,  6.74519894,  1.84936383,  0.69557258],\n",
       "       [ 0.91481531,  1.5941118 ,  6.78403048,  1.83397537,  0.68945528],\n",
       "       [ 0.903895  ,  1.57978053,  6.82070324,  1.82038501,  0.6848981 ],\n",
       "       [ 0.89407674,  1.56725898,  6.85529611,  1.80813033,  0.68257153],\n",
       "       [ 0.88524153,  1.55605152,  6.88789805,  1.79604543,  0.68093596],\n",
       "       [ 0.87701613,  1.5460041 ,  6.91780028,  1.78430051,  0.67979633],\n",
       "       [ 0.86938135,  1.53681556,  6.9467246 ,  1.77365135,  0.6788822 ],\n",
       "       [ 0.86250998,  1.52872285,  6.97393839,  1.76420321,  0.67850685],\n",
       "       [ 0.85625509,  1.52144187,  6.9995141 ,  1.75557999,  0.67841531],\n",
       "       [ 0.85067626,  1.51471503,  7.02359483,  1.74794186,  0.67837395],\n",
       "       [ 0.84563625,  1.50880925,  7.04073475,  1.74106119,  0.67869834],\n",
       "       [ 0.84100686,  1.50330654,  7.05663842,  1.73472589,  0.67900257],\n",
       "       [ 0.83688728,  1.49849308,  7.07140106,  1.72898863,  0.67959157],\n",
       "       [ 0.83297062,  1.49397271,  7.08534637,  1.72392348,  0.68011892],\n",
       "       [ 0.82958838,  1.49002897,  7.0989073 ,  1.71934782,  0.68086016],\n",
       "       [ 0.82652164,  1.48720384,  7.11190951,  1.71561855,  0.68270083],\n",
       "       [ 0.82373163,  1.48494452,  7.1243427 ,  1.71335674,  0.68514247],\n",
       "       [ 0.8211017 ,  1.48279098,  7.1360361 ,  1.71127636,  0.68720219],\n",
       "       [ 0.8187829 ,  1.48102408,  7.14691252,  1.70945885,  0.68963376],\n",
       "       [ 0.81667802,  1.47948164,  7.15714314,  1.70788058,  0.69175054],\n",
       "       [ 0.81475502,  1.47811177,  7.16678553,  1.7064718 ,  0.69386383],\n",
       "       [ 0.81299706,  1.47674335,  7.17600867,  1.70523659,  0.69578634],\n",
       "       [ 0.81131861,  1.47562967,  7.18451965,  1.70416825,  0.69781511],\n",
       "       [ 0.80985105,  1.47467296,  7.19249165,  1.70323261,  0.69985477],\n",
       "       [ 0.80848976,  1.47382179,  7.19985325,  1.70239107,  0.70191626],\n",
       "       [ 0.80715358,  1.47306203,  7.20707168,  1.70164561,  0.70389337],\n",
       "       [ 0.80596017,  1.47226967,  7.21369078,  1.70100319,  0.70576742],\n",
       "       [ 0.80487862,  1.47162152,  7.21960528,  1.70042963,  0.7074045 ],\n",
       "       [ 0.80388928,  1.47108263,  7.22559766,  1.69991465,  0.70902464],\n",
       "       [ 0.80294323,  1.47060464,  7.23108606,  1.69946985,  0.71061155],\n",
       "       [ 0.80210036,  1.4700898 ,  7.23616234,  1.69908539,  0.71211792],\n",
       "       [ 0.8013403 ,  1.46965007,  7.24054767,  1.6987424 ,  0.71353789]])"
      ]
     },
     "execution_count": 34,
     "metadata": {},
     "output_type": "execute_result"
    }
   ],
   "source": [
    "lassocv.mse_path_"
   ]
  },
  {
   "cell_type": "code",
   "execution_count": 35,
   "id": "eac754a5",
   "metadata": {},
   "outputs": [
    {
     "name": "stdout",
     "output_type": "stream",
     "text": [
      "Mean Absolute Error 0.5556715031617874\n",
      "R2 Score 0.978328234520343\n"
     ]
    },
    {
     "data": {
      "image/png": "[encoded data removed]",
      "text/plain": [
       "<Figure size 640x480 with 1 Axes>"
      ]
     },
     "metadata": {},
     "output_type": "display_data"
    }
   ],
   "source": [
    "y_pred = lassocv.predict(X_test_scaled)\n",
    "plt.scatter(y_test,y_pred)\n",
    "mae = mean_absolute_error(y_test,y_pred)\n",
    "score = r2_score(y_test,y_pred)\n",
    "print(\"Mean Absolute Error\",mae)\n",
    "print(\"R2 Score\",score)"
   ]
  },
  {
   "cell_type": "markdown",
   "id": "0cb9b6c2",
   "metadata": {},
   "source": [
    "# Ridge Regression Model"
   ]
  },
  {
   "cell_type": "code",
   "execution_count": 36,
   "id": "50d56f2d",
   "metadata": {},
   "outputs": [
    {
     "name": "stdout",
     "output_type": "stream",
     "text": [
      "Mean Absolute Error 0.5192048325844747\n",
      "R2 Score 0.9801058063273601\n"
     ]
    },
    {
     "data": {
      "text/plain": [
       "<matplotlib.collections.PathCollection at 0x21e5f8e69e0>"
      ]
     },
     "execution_count": 36,
     "metadata": {},
     "output_type": "execute_result"
    },
    {
     "data": {
      "image/png": "[encoded data removed]",
      "text/plain": [
       "<Figure size 640x480 with 1 Axes>"
      ]
     },
     "metadata": {},
     "output_type": "display_data"
    }
   ],
   "source": [
    "from sklearn.linear_model import Ridge\n",
    "from sklearn.metrics import mean_absolute_error\n",
    "from sklearn.metrics import r2_score\n",
    "ridge = Ridge()\n",
    "ridge.fit(X_train_scaled,y_train)\n",
    "y_pred = ridge.predict(X_test_scaled)\n",
    "mae = mean_absolute_error(y_test,y_pred)\n",
    "score = r2_score(y_test,y_pred)\n",
    "print(\"Mean Absolute Error\",mae)\n",
    "print(\"R2 Score\",score)\n",
    "plt.scatter(y_test,y_pred)"
   ]
  },
  {
   "cell_type": "markdown",
   "id": "274bb91c",
   "metadata": {},
   "source": [
    "# Ridge CV"
   ]
  },
  {
   "cell_type": "code",
   "execution_count": 37,
   "id": "b3be3838",
   "metadata": {},
   "outputs": [
    {
     "name": "stdout",
     "output_type": "stream",
     "text": [
      "Mean Absolute Error 0.6869262008277103\n",
      "R2 Score 0.9722193780965628\n"
     ]
    },
    {
     "data": {
      "image/png": "[encoded data removed]",
      "text/plain": [
       "<Figure size 640x480 with 1 Axes>"
      ]
     },
     "metadata": {},
     "output_type": "display_data"
    }
   ],
   "source": [
    "from sklearn.linear_model import RidgeCV\n",
    "ridgecv = RidgeCV(cv=5)\n",
    "ridgecv.fit(X_train_scaled,y_train)\n",
    "y_pred = ridgecv.predict(X_test_scaled)\n",
    "plt.scatter(y_test,y_pred)\n",
    "plt.scatter(y_test,y_pred)\n",
    "mae = mean_absolute_error(y_test,y_pred)\n",
    "score = r2_score(y_test,y_pred)\n",
    "print(\"Mean Absolute Error\",mae)\n",
    "print(\"R2 Score\",score)"
   ]
  },
  {
   "cell_type": "code",
   "execution_count": 38,
   "id": "f23efce5",
   "metadata": {},
   "outputs": [
    {
     "data": {
      "text/plain": [
       "(0.1, 1.0, 10.0)"
      ]
     },
     "execution_count": 38,
     "metadata": {},
     "output_type": "execute_result"
    }
   ],
   "source": [
    "ridgecv.alphas"
   ]
  },
  {
   "cell_type": "code",
   "execution_count": 39,
   "id": "8094de0a",
   "metadata": {},
   "outputs": [
    {
     "data": {
      "text/plain": [
       "{'alpha_per_target': False,\n",
       " 'alphas': (0.1, 1.0, 10.0),\n",
       " 'cv': 5,\n",
       " 'fit_intercept': True,\n",
       " 'gcv_mode': None,\n",
       " 'scoring': None,\n",
       " 'store_cv_values': False}"
      ]
     },
     "execution_count": 39,
     "metadata": {},
     "output_type": "execute_result"
    }
   ],
   "source": [
    "ridgecv.get_params()"
   ]
  },
  {
   "cell_type": "markdown",
   "id": "304424f8",
   "metadata": {},
   "source": [
    "# Elasticnet Regression"
   ]
  },
  {
   "cell_type": "code",
   "execution_count": 40,
   "id": "d7e612cb",
   "metadata": {},
   "outputs": [
    {
     "name": "stdout",
     "output_type": "stream",
     "text": [
      "Mean Absolute Error 1.683441634013671\n",
      "R2 Score 0.8676961352267807\n"
     ]
    },
    {
     "data": {
      "text/plain": [
       "<matplotlib.collections.PathCollection at 0x21e5f9683d0>"
      ]
     },
     "execution_count": 40,
     "metadata": {},
     "output_type": "execute_result"
    },
    {
     "data": {
      "image/png": "[encoded data removed]",
      "text/plain": [
       "<Figure size 640x480 with 1 Axes>"
      ]
     },
     "metadata": {},
     "output_type": "display_data"
    }
   ],
   "source": [
    "from sklearn.linear_model import ElasticNet\n",
    "from sklearn.metrics import mean_absolute_error\n",
    "from sklearn.metrics import r2_score\n",
    "elastic = ElasticNet()\n",
    "elastic.fit(X_train_scaled,y_train)\n",
    "y_pred = elastic.predict(X_test_scaled)\n",
    "mae = mean_absolute_error(y_test,y_pred)\n",
    "score = r2_score(y_test,y_pred)\n",
    "print(\"Mean Absolute Error\",mae)\n",
    "print(\"R2 Score\",score)\n",
    "plt.scatter(y_test,y_pred)"
   ]
  },
  {
   "cell_type": "markdown",
   "id": "9362a2f9",
   "metadata": {},
   "source": [
    "# Elastic net CV"
   ]
  },
  {
   "cell_type": "code",
   "execution_count": 41,
   "id": "6db63371",
   "metadata": {},
   "outputs": [
    {
     "name": "stdout",
     "output_type": "stream",
     "text": [
      "Mean Absolute Error 0.5710147088777218\n",
      "R2 Score 0.9781014571778188\n"
     ]
    },
    {
     "data": {
      "image/png": "[encoded data removed]",
      "text/plain": [
       "<Figure size 640x480 with 1 Axes>"
      ]
     },
     "metadata": {},
     "output_type": "display_data"
    }
   ],
   "source": [
    "from sklearn.linear_model import ElasticNetCV\n",
    "elasticcv = ElasticNetCV(cv=5)\n",
    "elasticcv.fit(X_train_scaled,y_train)\n",
    "y_pred = elasticcv.predict(X_test_scaled)\n",
    "plt.scatter(y_test,y_pred)\n",
    "plt.scatter(y_test,y_pred)\n",
    "mae = mean_absolute_error(y_test,y_pred)\n",
    "score = r2_score(y_test,y_pred)\n",
    "print(\"Mean Absolute Error\",mae)\n",
    "print(\"R2 Score\",score)"
   ]
  },
  {
   "cell_type": "code",
   "execution_count": 48,
   "id": "b14801f5",
   "metadata": {},
   "outputs": [
    {
     "data": {
      "text/plain": [
       "array([14.31273339, 13.34810307, 12.44848559, 11.60949933, 10.82705793,\n",
       "       10.09735046,  9.41682284,  8.78216049,  8.19027227,  7.63827533,\n",
       "        7.12348114,  6.64338235,  6.19564061,  5.77807517,  5.38865224,\n",
       "        5.02547512,  4.68677492,  4.37090197,  4.07631781,  3.80158763,\n",
       "        3.54537335,  3.30642705,  3.08358493,  2.87576163,  2.68194492,\n",
       "        2.50119081,  2.33261892,  2.17540821,  2.02879298,  1.89205912,\n",
       "        1.76454067,  1.64561653,  1.53470749,  1.43127334,  1.33481031,\n",
       "        1.24484856,  1.16094993,  1.08270579,  1.00973505,  0.94168228,\n",
       "        0.87821605,  0.81902723,  0.76382753,  0.71234811,  0.66433823,\n",
       "        0.61956406,  0.57780752,  0.53886522,  0.50254751,  0.46867749,\n",
       "        0.4370902 ,  0.40763178,  0.38015876,  0.35453733,  0.33064271,\n",
       "        0.30835849,  0.28757616,  0.26819449,  0.25011908,  0.23326189,\n",
       "        0.21754082,  0.2028793 ,  0.18920591,  0.17645407,  0.16456165,\n",
       "        0.15347075,  0.14312733,  0.13348103,  0.12448486,  0.11609499,\n",
       "        0.10827058,  0.1009735 ,  0.09416823,  0.0878216 ,  0.08190272,\n",
       "        0.07638275,  0.07123481,  0.06643382,  0.06195641,  0.05778075,\n",
       "        0.05388652,  0.05025475,  0.04686775,  0.04370902,  0.04076318,\n",
       "        0.03801588,  0.03545373,  0.03306427,  0.03083585,  0.02875762,\n",
       "        0.02681945,  0.02501191,  0.02332619,  0.02175408,  0.02028793,\n",
       "        0.01892059,  0.01764541,  0.01645617,  0.01534707,  0.01431273])"
      ]
     },
     "execution_count": 48,
     "metadata": {},
     "output_type": "execute_result"
    }
   ],
   "source": [
    "elasticcv.alphas_"
   ]
  },
  {
   "cell_type": "code",
   "execution_count": null,
   "id": "4a475b8f",
   "metadata": {},
   "outputs": [],
   "source": []
  },
  {
   "cell_type": "markdown",
   "id": "0c64b441",
   "metadata": {},
   "source": [
    "# Pickle the machine learning models,preprocessing model standardscaler"
   ]
  },
  {
   "cell_type": "code",
   "execution_count": 44,
   "id": "38be4a46",
   "metadata": {},
   "outputs": [
    {
     "data": {
      "text/html": [
       "<style>#sk-container-id-2 {color: black;background-color: white;}#sk-container-id-2 pre{padding: 0;}#sk-container-id-2 div.sk-toggleable {background-color: white;}#sk-container-id-2 label.sk-toggleable__label {cursor: pointer;display: block;width: 100%;margin-bottom: 0;padding: 0.3em;box-sizing: border-box;text-align: center;}#sk-container-id-2 label.sk-toggleable__label-arrow:before {content: \"▸\";float: left;margin-right: 0.25em;color: #696969;}#sk-container-id-2 label.sk-toggleable__label-arrow:hover:before {color: black;}#sk-container-id-2 div.sk-estimator:hover label.sk-toggleable__label-arrow:before {color: black;}#sk-container-id-2 div.sk-toggleable__content {max-height: 0;max-width: 0;overflow: hidden;text-align: left;background-color: #f0f8ff;}#sk-container-id-2 div.sk-toggleable__content pre {margin: 0.2em;color: black;border-radius: 0.25em;background-color: #f0f8ff;}#sk-container-id-2 input.sk-toggleable__control:checked~div.sk-toggleable__content {max-height: 200px;max-width: 100%;overflow: auto;}#sk-container-id-2 input.sk-toggleable__control:checked~label.sk-toggleable__label-arrow:before {content: \"▾\";}#sk-container-id-2 div.sk-estimator input.sk-toggleable__control:checked~label.sk-toggleable__label {background-color: #d4ebff;}#sk-container-id-2 div.sk-label input.sk-toggleable__control:checked~label.sk-toggleable__label {background-color: #d4ebff;}#sk-container-id-2 input.sk-hidden--visually {border: 0;clip: rect(1px 1px 1px 1px);clip: rect(1px, 1px, 1px, 1px);height: 1px;margin: -1px;overflow: hidden;padding: 0;position: absolute;width: 1px;}#sk-container-id-2 div.sk-estimator {font-family: monospace;background-color: #f0f8ff;border: 1px dotted black;border-radius: 0.25em;box-sizing: border-box;margin-bottom: 0.5em;}#sk-container-id-2 div.sk-estimator:hover {background-color: #d4ebff;}#sk-container-id-2 div.sk-parallel-item::after {content: \"\";width: 100%;border-bottom: 1px solid gray;flex-grow: 1;}#sk-container-id-2 div.sk-label:hover label.sk-toggleable__label {background-color: #d4ebff;}#sk-container-id-2 div.sk-serial::before {content: \"\";position: absolute;border-left: 1px solid gray;box-sizing: border-box;top: 0;bottom: 0;left: 50%;z-index: 0;}#sk-container-id-2 div.sk-serial {display: flex;flex-direction: column;align-items: center;background-color: white;padding-right: 0.2em;padding-left: 0.2em;position: relative;}#sk-container-id-2 div.sk-item {position: relative;z-index: 1;}#sk-container-id-2 div.sk-parallel {display: flex;align-items: stretch;justify-content: center;background-color: white;position: relative;}#sk-container-id-2 div.sk-item::before, #sk-container-id-2 div.sk-parallel-item::before {content: \"\";position: absolute;border-left: 1px solid gray;box-sizing: border-box;top: 0;bottom: 0;left: 50%;z-index: -1;}#sk-container-id-2 div.sk-parallel-item {display: flex;flex-direction: column;z-index: 1;position: relative;background-color: white;}#sk-container-id-2 div.sk-parallel-item:first-child::after {align-self: flex-end;width: 50%;}#sk-container-id-2 div.sk-parallel-item:last-child::after {align-self: flex-start;width: 50%;}#sk-container-id-2 div.sk-parallel-item:only-child::after {width: 0;}#sk-container-id-2 div.sk-dashed-wrapped {border: 1px dashed gray;margin: 0 0.4em 0.5em 0.4em;box-sizing: border-box;padding-bottom: 0.4em;background-color: white;}#sk-container-id-2 div.sk-label label {font-family: monospace;font-weight: bold;display: inline-block;line-height: 1.2em;}#sk-container-id-2 div.sk-label-container {text-align: center;}#sk-container-id-2 div.sk-container {/* jupyter's `normalize.less` sets `[hidden] { display: none; }` but bootstrap.min.css set `[hidden] { display: none !important; }` so we also need the `!important` here to be able to override the default hidden behavior on the sphinx rendered scikit-learn.org. See: https://github.com/scikit-learn/scikit-learn/issues/21755 */display: inline-block !important;position: relative;}#sk-container-id-2 div.sk-text-repr-fallback {display: none;}</style><div id=\"sk-container-id-2\" class=\"sk-top-container\"><div class=\"sk-text-repr-fallback\"><pre>StandardScaler()</pre><b>In a Jupyter environment, please rerun this cell to show the HTML representation or trust the notebook. <br />On GitHub, the HTML representation is unable to render, please try loading this page with nbviewer.org.</b></div><div class=\"sk-container\" hidden><div class=\"sk-item\"><div class=\"sk-estimator sk-toggleable\"><input class=\"sk-toggleable__control sk-hidden--visually\" id=\"sk-estimator-id-2\" type=\"checkbox\" checked><label for=\"sk-estimator-id-2\" class=\"sk-toggleable__label sk-toggleable__label-arrow\">StandardScaler</label><div class=\"sk-toggleable__content\"><pre>StandardScaler()</pre></div></div></div></div></div>"
      ],
      "text/plain": [
       "StandardScaler()"
      ]
     },
     "execution_count": 44,
     "metadata": {},
     "output_type": "execute_result"
    }
   ],
   "source": [
    "scaler"
   ]
  },
  {
   "cell_type": "code",
   "execution_count": 45,
   "id": "7d4527ae",
   "metadata": {},
   "outputs": [
    {
     "data": {
      "text/html": [
       "<style>#sk-container-id-3 {color: black;background-color: white;}#sk-container-id-3 pre{padding: 0;}#sk-container-id-3 div.sk-toggleable {background-color: white;}#sk-container-id-3 label.sk-toggleable__label {cursor: pointer;display: block;width: 100%;margin-bottom: 0;padding: 0.3em;box-sizing: border-box;text-align: center;}#sk-container-id-3 label.sk-toggleable__label-arrow:before {content: \"▸\";float: left;margin-right: 0.25em;color: #696969;}#sk-container-id-3 label.sk-toggleable__label-arrow:hover:before {color: black;}#sk-container-id-3 div.sk-estimator:hover label.sk-toggleable__label-arrow:before {color: black;}#sk-container-id-3 div.sk-toggleable__content {max-height: 0;max-width: 0;overflow: hidden;text-align: left;background-color: #f0f8ff;}#sk-container-id-3 div.sk-toggleable__content pre {margin: 0.2em;color: black;border-radius: 0.25em;background-color: #f0f8ff;}#sk-container-id-3 input.sk-toggleable__control:checked~div.sk-toggleable__content {max-height: 200px;max-width: 100%;overflow: auto;}#sk-container-id-3 input.sk-toggleable__control:checked~label.sk-toggleable__label-arrow:before {content: \"▾\";}#sk-container-id-3 div.sk-estimator input.sk-toggleable__control:checked~label.sk-toggleable__label {background-color: #d4ebff;}#sk-container-id-3 div.sk-label input.sk-toggleable__control:checked~label.sk-toggleable__label {background-color: #d4ebff;}#sk-container-id-3 input.sk-hidden--visually {border: 0;clip: rect(1px 1px 1px 1px);clip: rect(1px, 1px, 1px, 1px);height: 1px;margin: -1px;overflow: hidden;padding: 0;position: absolute;width: 1px;}#sk-container-id-3 div.sk-estimator {font-family: monospace;background-color: #f0f8ff;border: 1px dotted black;border-radius: 0.25em;box-sizing: border-box;margin-bottom: 0.5em;}#sk-container-id-3 div.sk-estimator:hover {background-color: #d4ebff;}#sk-container-id-3 div.sk-parallel-item::after {content: \"\";width: 100%;border-bottom: 1px solid gray;flex-grow: 1;}#sk-container-id-3 div.sk-label:hover label.sk-toggleable__label {background-color: #d4ebff;}#sk-container-id-3 div.sk-serial::before {content: \"\";position: absolute;border-left: 1px solid gray;box-sizing: border-box;top: 0;bottom: 0;left: 50%;z-index: 0;}#sk-container-id-3 div.sk-serial {display: flex;flex-direction: column;align-items: center;background-color: white;padding-right: 0.2em;padding-left: 0.2em;position: relative;}#sk-container-id-3 div.sk-item {position: relative;z-index: 1;}#sk-container-id-3 div.sk-parallel {display: flex;align-items: stretch;justify-content: center;background-color: white;position: relative;}#sk-container-id-3 div.sk-item::before, #sk-container-id-3 div.sk-parallel-item::before {content: \"\";position: absolute;border-left: 1px solid gray;box-sizing: border-box;top: 0;bottom: 0;left: 50%;z-index: -1;}#sk-container-id-3 div.sk-parallel-item {display: flex;flex-direction: column;z-index: 1;position: relative;background-color: white;}#sk-container-id-3 div.sk-parallel-item:first-child::after {align-self: flex-end;width: 50%;}#sk-container-id-3 div.sk-parallel-item:last-child::after {align-self: flex-start;width: 50%;}#sk-container-id-3 div.sk-parallel-item:only-child::after {width: 0;}#sk-container-id-3 div.sk-dashed-wrapped {border: 1px dashed gray;margin: 0 0.4em 0.5em 0.4em;box-sizing: border-box;padding-bottom: 0.4em;background-color: white;}#sk-container-id-3 div.sk-label label {font-family: monospace;font-weight: bold;display: inline-block;line-height: 1.2em;}#sk-container-id-3 div.sk-label-container {text-align: center;}#sk-container-id-3 div.sk-container {/* jupyter's `normalize.less` sets `[hidden] { display: none; }` but bootstrap.min.css set `[hidden] { display: none !important; }` so we also need the `!important` here to be able to override the default hidden behavior on the sphinx rendered scikit-learn.org. See: https://github.com/scikit-learn/scikit-learn/issues/21755 */display: inline-block !important;position: relative;}#sk-container-id-3 div.sk-text-repr-fallback {display: none;}</style><div id=\"sk-container-id-3\" class=\"sk-top-container\"><div class=\"sk-text-repr-fallback\"><pre>Ridge()</pre><b>In a Jupyter environment, please rerun this cell to show the HTML representation or trust the notebook. <br />On GitHub, the HTML representation is unable to render, please try loading this page with nbviewer.org.</b></div><div class=\"sk-container\" hidden><div class=\"sk-item\"><div class=\"sk-estimator sk-toggleable\"><input class=\"sk-toggleable__control sk-hidden--visually\" id=\"sk-estimator-id-3\" type=\"checkbox\" checked><label for=\"sk-estimator-id-3\" class=\"sk-toggleable__label sk-toggleable__label-arrow\">Ridge</label><div class=\"sk-toggleable__content\"><pre>Ridge()</pre></div></div></div></div></div>"
      ],
      "text/plain": [
       "Ridge()"
      ]
     },
     "execution_count": 45,
     "metadata": {},
     "output_type": "execute_result"
    }
   ],
   "source": [
    "ridge"
   ]
  },
  {
   "cell_type": "code",
   "execution_count": 47,
   "id": "e5893da5",
   "metadata": {},
   "outputs": [],
   "source": [
    "import pickle\n",
    "pickle.dump(scaler,open('scaler.pkl','wb'))\n",
    "pickle.dump(ridge,open('ridge.pkl','wb'))"
   ]
  },
  {
   "cell_type": "code",
   "execution_count": null,
   "id": "8d481d0b",
   "metadata": {},
   "outputs": [],
   "source": []
  }
 ],
 "metadata": {
  "kernelspec": {
   "display_name": "Python 3 (ipykernel)",
   "language": "python",
   "name": "python3"
  },
  "language_info": {
   "codemirror_mode": {
    "name": "ipython",
    "version": 3
   },
   "file_extension": ".py",
   "mimetype": "text/x-python",
   "name": "python",
   "nbconvert_exporter": "python",
   "pygments_lexer": "ipython3",
   "version": "3.10.9"
  }
 },
 "nbformat": 4,
 "nbformat_minor": 5
}
